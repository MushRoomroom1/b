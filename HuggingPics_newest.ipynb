{
  "nbformat": 4,
  "nbformat_minor": 0,
  "metadata": {
    "colab": {
      "provenance": [],
      "include_colab_link": true
    },
    "kernelspec": {
      "name": "python3",
      "display_name": "Python 3"
    },
    "language_info": {
      "name": "python"
    },
    "accelerator": "GPU"
  },
  "cells": [
    {
      "cell_type": "markdown",
      "metadata": {
        "id": "view-in-github",
        "colab_type": "text"
      },
      "source": [
        "<a href=\"https://colab.research.google.com/github/MushRoomroom1/b/blob/main/HuggingPics_newest.ipynb\" target=\"_parent\"><img src=\"https://colab.research.google.com/assets/colab-badge.svg\" alt=\"Open In Colab\"/></a>"
      ]
    },
    {
      "cell_type": "markdown",
      "metadata": {
        "id": "ApFglcc3TASu"
      },
      "source": [
        "# HuggingPics 🤗🖼️\n",
        "\n",
        "Fine-tune Vision Transformers for **anything** using images found on the web."
      ]
    },
    {
      "cell_type": "code",
      "metadata": {
        "id": "XVyU3ScYZ3Hc"
      },
      "source": [
        "%%capture\n",
        "\n",
        "! pip install transformers pytorch-lightning --quiet\n",
        "! sudo apt -qq install git-lfs\n",
        "! git config --global credential.helper store"
      ],
      "execution_count": null,
      "outputs": []
    },
    {
      "cell_type": "code",
      "metadata": {
        "id": "ihFempth1zK0"
      },
      "source": [
        "import requests\n",
        "import math\n",
        "import matplotlib.pyplot as plt\n",
        "import shutil\n",
        "from getpass import getpass\n",
        "from PIL import Image, UnidentifiedImageError\n",
        "from requests.exceptions import HTTPError\n",
        "from io import BytesIO\n",
        "from pathlib import Path\n",
        "import torch\n",
        "#import pytorch_lightning as pl\n",
        "from huggingface_hub import HfApi, HfFolder, Repository, notebook_login\n",
        "from torch.utils.data import DataLoader\n",
        "#from torchmetrics import Accuracy\n",
        "from torchvision.datasets import ImageFolder\n",
        "from transformers import ViTFeatureExtractor, ViTForImageClassification"
      ],
      "execution_count": 3,
      "outputs": []
    },
    {
      "cell_type": "code",
      "source": [
        "# Load model directly\n",
        "from transformers import AutoImageProcessor, AutoModelForImageClassification\n",
        "\n",
        "processor = AutoImageProcessor.from_pretrained(\"google/vit-base-patch16-224\")\n",
        "ViTmodel = AutoModelForImageClassification.from_pretrained(\"google/vit-base-patch16-224\")\n",
        "print(\"Transformer model structure:\",ViTmodel)\n",
        "\n",
        "dummy_input = torch.randn(1, 3, 224, 224)  # (batch, channels, height, width)\n",
        "embedding_output = ViTmodel.vit.embeddings(dummy_input)\n",
        "# 打印 embedding 输出的形状\n",
        "print(\"Embedding output shape:\", embedding_output.shape)   #Embedding output shape: torch.Size([1, 197, 768])\n",
        "output = ViTmodel(dummy_input)  # 前向传播\n",
        "print(output.logits.shape)  # 预期形状 (1, 1000) - ImageNet 分类\n"
      ],
      "metadata": {
        "colab": {
          "base_uri": "https://localhost:8080/"
        },
        "id": "eDIJd9h9TEcO",
        "outputId": "9088c8f9-314a-4703-f21d-1b160542418f"
      },
      "execution_count": 22,
      "outputs": [
        {
          "output_type": "stream",
          "name": "stderr",
          "text": [
            "Fast image processor class <class 'transformers.models.vit.image_processing_vit_fast.ViTImageProcessorFast'> is available for this model. Using slow image processor class. To use the fast image processor class set `use_fast=True`.\n"
          ]
        },
        {
          "output_type": "stream",
          "name": "stdout",
          "text": [
            "Transformer model structure: ViTForImageClassification(\n",
            "  (vit): ViTModel(\n",
            "    (embeddings): ViTEmbeddings(\n",
            "      (patch_embeddings): ViTPatchEmbeddings(\n",
            "        (projection): Conv2d(3, 768, kernel_size=(16, 16), stride=(16, 16))\n",
            "      )\n",
            "      (dropout): Dropout(p=0.0, inplace=False)\n",
            "    )\n",
            "    (encoder): ViTEncoder(\n",
            "      (layer): ModuleList(\n",
            "        (0-11): 12 x ViTLayer(\n",
            "          (attention): ViTSdpaAttention(\n",
            "            (attention): ViTSdpaSelfAttention(\n",
            "              (query): Linear(in_features=768, out_features=768, bias=True)\n",
            "              (key): Linear(in_features=768, out_features=768, bias=True)\n",
            "              (value): Linear(in_features=768, out_features=768, bias=True)\n",
            "              (dropout): Dropout(p=0.0, inplace=False)\n",
            "            )\n",
            "            (output): ViTSelfOutput(\n",
            "              (dense): Linear(in_features=768, out_features=768, bias=True)\n",
            "              (dropout): Dropout(p=0.0, inplace=False)\n",
            "            )\n",
            "          )\n",
            "          (intermediate): ViTIntermediate(\n",
            "            (dense): Linear(in_features=768, out_features=3072, bias=True)\n",
            "            (intermediate_act_fn): GELUActivation()\n",
            "          )\n",
            "          (output): ViTOutput(\n",
            "            (dense): Linear(in_features=3072, out_features=768, bias=True)\n",
            "            (dropout): Dropout(p=0.0, inplace=False)\n",
            "          )\n",
            "          (layernorm_before): LayerNorm((768,), eps=1e-12, elementwise_affine=True)\n",
            "          (layernorm_after): LayerNorm((768,), eps=1e-12, elementwise_affine=True)\n",
            "        )\n",
            "      )\n",
            "    )\n",
            "    (layernorm): LayerNorm((768,), eps=1e-12, elementwise_affine=True)\n",
            "  )\n",
            "  (classifier): Linear(in_features=768, out_features=1000, bias=True)\n",
            ")\n",
            "Embedding output shape: torch.Size([1, 197, 768])\n",
            "torch.Size([1, 1000])\n"
          ]
        }
      ]
    },
    {
      "cell_type": "code",
      "source": [
        "from construct3DCNN import CNN3D\n",
        "\n",
        "CNNmodel=CNN3D(num_classes=3)\n",
        "CNNmodel=torch.load(\"try.pth\")\n",
        "print(\"Structure:\",CNNmodel)"
      ],
      "metadata": {
        "collapsed": true,
        "colab": {
          "base_uri": "https://localhost:8080/"
        },
        "id": "AO6uYbyKR4Wv",
        "outputId": "50c781d9-5a19-4793-8f81-9808b60ee7f9"
      },
      "execution_count": 4,
      "outputs": [
        {
          "output_type": "stream",
          "name": "stdout",
          "text": [
            "Structure: CNN3D(\n",
            "  (conv1): Conv3d(1, 32, kernel_size=(3, 3, 3), stride=(2, 2, 2))\n",
            "  (relu1): ReLU()\n",
            "  (pool1): MaxPool3d(kernel_size=(1, 2, 2), stride=2, padding=0, dilation=1, ceil_mode=False)\n",
            "  (conv2): Conv3d(32, 64, kernel_size=(3, 3, 3), stride=(2, 2, 2))\n",
            "  (relu2): ReLU()\n",
            "  (pool2): MaxPool3d(kernel_size=2, stride=2, padding=0, dilation=1, ceil_mode=False)\n",
            "  (conv3): Conv3d(64, 128, kernel_size=(3, 3, 3), stride=(2, 2, 2))\n",
            "  (relu3): ReLU()\n",
            "  (fc1): Linear(in_features=256, out_features=512, bias=True)\n",
            "  (fc2): Linear(in_features=512, out_features=3, bias=True)\n",
            ")\n"
          ]
        },
        {
          "output_type": "stream",
          "name": "stderr",
          "text": [
            "<ipython-input-4-faa6ba1e011d>:4: FutureWarning: You are using `torch.load` with `weights_only=False` (the current default value), which uses the default pickle module implicitly. It is possible to construct malicious pickle data which will execute arbitrary code during unpickling (See https://github.com/pytorch/pytorch/blob/main/SECURITY.md#untrusted-models for more details). In a future release, the default value for `weights_only` will be flipped to `True`. This limits the functions that could be executed during unpickling. Arbitrary objects will no longer be allowed to be loaded via this mode unless they are explicitly allowlisted by the user via `torch.serialization.add_safe_globals`. We recommend you start setting `weights_only=True` for any use case where you don't have full control of the loaded file. Please open an issue on GitHub for any issues related to this experimental feature.\n",
            "  CNNmodel=torch.load(\"try.pth\")\n"
          ]
        }
      ]
    },
    {
      "cell_type": "code",
      "source": [
        "import pandas as pd\n",
        "import numpy as np\n",
        "import torch\n",
        "from torch.utils.data import Dataset\n",
        "from scipy import ndimage\n",
        "from sklearn.model_selection import train_test_split\n",
        "\n",
        "class MyDataset(Dataset):\n",
        "    def __init__(self, datas=None, labels=None, shape=None, input_D=None, input_H=None, input_W=None, phase='train', transforms=None):\n",
        "        self.datas = datas\n",
        "        self.labels = labels\n",
        "        self.transforms = transforms\n",
        "        self.shape = shape\n",
        "        self.input_D = input_D\n",
        "        self.input_H = input_H\n",
        "        self.input_W = input_W\n",
        "        self.phase = phase\n",
        "\n",
        "    #返回整个数据集大小\n",
        "    def __len__(self):\n",
        "        return self.datas.shape[0]\n",
        "\n",
        "    #根据索引index返回dataset[index]\n",
        "    def __getitem__(self,index):\n",
        "        if self.phase == 'train':\n",
        "            #print(type(img), img.dtype)  # 检查数据类型\n",
        "            img = self.__data_process__(self.datas[index])\n",
        "            label = self.labels[index]\n",
        "            #img = torch.tensor(img)\n",
        "            img = torch.tensor(img, dtype=torch.float32)\n",
        "            if self.transforms:\n",
        "                img = self.transforms(img)\n",
        "            return img,label\n",
        "        elif self.phase == 'test':\n",
        "            img = self.__data_process__(self.datas[index])\n",
        "            img = torch.tensor(img)\n",
        "            if self.transforms:\n",
        "                img = self.transforms(img)\n",
        "            return img\n",
        "\n",
        "    def __itensity_normalize_one_volume__(self, volume):\n",
        "        pixels = volume[volume > 0]\n",
        "        mean = pixels.mean()\n",
        "        std  = pixels.std()\n",
        "        out = (volume - mean)/std\n",
        "        out_random = np.random.normal(0, 1, size = volume.shape)\n",
        "        out[volume == 0] = out_random[volume == 0]\n",
        "        return out\n",
        "\n",
        "    def __resize_data__(self, data):\n",
        "        '''\n",
        "        Resize the data to the input size\n",
        "        '''\n",
        "        if self.shape == 2:\n",
        "            [depth, height, width] = data.shape\n",
        "            scale = [self.input_D*1.0/depth, self.input_H*1.0/height, self.input_W*1.0/width]\n",
        "        else:\n",
        "            [channel, depth, height, width] = data.shape\n",
        "            scale = [channel,self.input_D*1.0/depth, self.input_H*1.0/height, self.input_W*1.0/width]\n",
        "        data = ndimage.zoom(data, scale, order=0)\n",
        "\n",
        "        return data\n",
        "\n",
        "    def __data_process__(self, data):\n",
        "\n",
        "        # resize data\n",
        "        data = self.__resize_data__(data)\n",
        "\n",
        "        # normalization datas\n",
        "        data = self.__itensity_normalize_one_volume__(data)\n",
        "\n",
        "        return data\n",
        "\n",
        "input_D = 79\n",
        "input_H = 95\n",
        "input_W = 79\n",
        "train = h5py.File('/content/train_pre_data.h5','r')\n",
        "labels = pd.read_csv('train_pre_label.csv')\n",
        "features = np.array(train['data'])\n",
        "#print('features.shape:',features.shape)   #(300, 1, 79, 95, 79)\n",
        "X_train, X_val, y_train, y_val = train_test_split(features,labels['label'].values,test_size = 0.2,random_state = 42)\n",
        "y_train = np.array(y_train, dtype=np.int64)  # 确保是 int64\n",
        "y_val = np.array(y_val, dtype=np.int64)\n",
        "\n",
        "y_train = torch.tensor(y_train, dtype=torch.long)  # 转换为 PyTorch Tensor\n",
        "y_val = torch.tensor(y_val, dtype=torch.long)\n",
        "\n",
        "train_datasets = MyDataset(datas=X_train,labels=y_train,shape=3,input_D=input_D,input_H=input_H,input_W=input_W,phase='train')\n",
        "val_datasets = MyDataset(datas=X_val,labels=y_val,shape=3,input_D=input_D,input_H=input_H,input_W=input_W,phase='train')\n",
        "\n",
        "train_loader = torch.utils.data.DataLoader(dataset=train_datasets, batch_size=30, shuffle=True)\n",
        "val_loader = torch.utils.data.DataLoader(dataset=val_datasets, batch_size=30, shuffle=False)"
      ],
      "metadata": {
        "id": "QySfRKCWaCoy"
      },
      "execution_count": 7,
      "outputs": []
    },
    {
      "cell_type": "code",
      "source": [
        "import h5py\n",
        "import numpy as np\n",
        "import os\n",
        "print(os.getcwd())\n",
        "\n",
        "temp_data_a = h5py.File('/content/testa.h5','r')['data'] #test_a和test_b中各有数据116例\n",
        "temp_data_b = h5py.File('/content/testb.h5','r')['data']\n",
        "temp_data = np.concatenate((np.array(temp_data_a),np.array(temp_data_b)))\n",
        "print(temp_data.shape)   #(232, 1, 79, 95, 79)\n",
        "print(temp_data_b.shape)   #(116, 1, 79, 95, 79)\n",
        "len_temp_data_a = len(np.array(temp_data_a))\n",
        "print(len_temp_data_a)  #116\n"
      ],
      "metadata": {
        "collapsed": true,
        "colab": {
          "base_uri": "https://localhost:8080/"
        },
        "id": "1VLLDtF4TglE",
        "outputId": "611fdd9d-8724-444b-d09d-f5c6f53b3a11"
      },
      "execution_count": 6,
      "outputs": [
        {
          "output_type": "stream",
          "name": "stdout",
          "text": [
            "/content\n",
            "(232, 1, 79, 95, 79)\n",
            "(116, 1, 79, 95, 79)\n",
            "116\n"
          ]
        }
      ]
    },
    {
      "cell_type": "code",
      "source": [
        "import torch\n",
        "import torch.nn as nn\n",
        "from transformers import ViTConfig, ViTModel\n",
        "class ViT3DForClassification(nn.Module):\n",
        "    def __init__(self, num_classes=3, pretrained_model=\"google/vit-base-patch16-224\"):\n",
        "        super(ViT3DForClassification, self).__init__()\n",
        "        # 1. 加载预训练的 ViT\n",
        "        self.vit = ViTModel.from_pretrained(pretrained_model)\n",
        "        for param in self.vit.parameters():\n",
        "          param.requires_grad = False\n",
        "        # 2. 替换 2D Patch Embedding 为 3D Patch Embedding\n",
        "        self.patch_embedding = nn.Conv3d(\n",
        "            in_channels=1,  # 数据是单通道\n",
        "            out_channels=768,\n",
        "            kernel_size=(16, 16, 16),\n",
        "            stride=(16, 16, 16)\n",
        "        )\n",
        "        # 3. 分类头\n",
        "        self.classifier = nn.Linear(768, num_classes)\n",
        "    def forward(self, x):\n",
        "        batch_size, channels, depth, height, width = x.shape\n",
        "        # 3D Patch 提取\n",
        "        x = self.patch_embedding(x)  # (batch, 768, new_depth, new_height, new_width)\n",
        "        # 调整形状，适配 ViT（转换为 2D）\n",
        "        x = x.flatten(2).transpose(1, 2)  # (batch, num_patches, 768)\n",
        "        # 传入 ViT Transformer（只用 Transformer 编码器）\n",
        "        outputs = self.vit.encoder(x)\n",
        "        cls_token = outputs.last_hidden_state[:, 0, :]  # 提取 CLS Token\n",
        "        # 分类头\n",
        "        x = self.classifier(cls_token)\n",
        "        return x\n",
        "\n",
        "# 测试\n",
        "model = ViT3DForClassification(num_classes=3)\n",
        "#dummy_input = torch.randn(2, 1, 79, 95, 79)  # 假设 batch_size=2\n",
        "#output = model(dummy_input)\n",
        "#print(output.shape)  # 预期 (2, 3)\n"
      ],
      "metadata": {
        "colab": {
          "base_uri": "https://localhost:8080/"
        },
        "collapsed": true,
        "id": "Yf5D_g8qURls",
        "outputId": "2ec5de89-5210-4418-e8a4-05265a078708"
      },
      "execution_count": 2,
      "outputs": [
        {
          "output_type": "stream",
          "name": "stderr",
          "text": [
            "/usr/local/lib/python3.11/dist-packages/huggingface_hub/utils/_auth.py:94: UserWarning: \n",
            "The secret `HF_TOKEN` does not exist in your Colab secrets.\n",
            "To authenticate with the Hugging Face Hub, create a token in your settings tab (https://huggingface.co/settings/tokens), set it as secret in your Google Colab and restart your session.\n",
            "You will be able to reuse this secret in all of your notebooks.\n",
            "Please note that authentication is recommended but still optional to access public models or datasets.\n",
            "  warnings.warn(\n",
            "Some weights of ViTModel were not initialized from the model checkpoint at google/vit-base-patch16-224 and are newly initialized: ['vit.pooler.dense.bias', 'vit.pooler.dense.weight']\n",
            "You should probably TRAIN this model on a down-stream task to be able to use it for predictions and inference.\n"
          ]
        }
      ]
    },
    {
      "cell_type": "code",
      "source": [
        "#optimizer = torch.optim.Adam(model.parameters(),lr=1e-4)\n",
        "optimizer = torch.optim.Adam(model.parameters(),lr=1e-3, weight_decay=1e-3)\n",
        "# 3、选择损失函数loss\n",
        "loss_fn = nn.CrossEntropyLoss()\n",
        "\n",
        "# 4、输入数据训练\n",
        "epochs=30\n",
        "logg=[]\n",
        "early_stopping = 5\n",
        "best_val_loss = float(\"inf\")  # 初始化为无穷大\n",
        "patience = 0\n",
        "print(\"开始训练\")\n",
        "for epoch in range(epochs):\n",
        "    train_acc=0\n",
        "    train_loss=0\n",
        "    for x,y_true in train_loader:\n",
        "        optimizer.zero_grad()           #清空梯度\n",
        "        y_pred = model(x)               #对x进行预测\n",
        "        train_right=torch.argmax(y_pred, dim=1)\n",
        "        train_acc+=(train_right==y_true).sum()\n",
        "        loss = loss_fn(y_pred, y_true)  #计算误差\n",
        "        train_loss+=loss.item()\n",
        "        loss.backward()                 #将损失loss向输入侧进行反向传播\n",
        "        optimizer.step()                #根据梯度更新网络参数;\n",
        "\n",
        "    with torch.no_grad():               #避免反向传播时自动求导\n",
        "        val_correct = 0\n",
        "        val_loss=0\n",
        "        for x, y_true in val_loader:   #这里是验证集，测试集只在最后用一次，不可能每个epoch都用的\n",
        "            y_pred = model(x)           #是batch_size个列表, 每个数字表示概率\n",
        "            val_loss+=loss_fn(y_pred,y_true).item()\n",
        "            y_pred_class = torch.argmax(y_pred,dim=1)     #dim=1或-1表示取每一行的最大值的索引；dim=0或-2表示取每一列的最大值的索引；如果参数中不写dim，则得到的是张量中最大的值对应的索引（从0开始）。\n",
        "            val_correct += torch.sum(y_pred_class == y_true).item()     #上一步选出概率最大的数字与该图片实际类别进行对比，相同就计数\n",
        "    ta=train_acc/len(X_train)\n",
        "    tl=train_loss/len(train_loader)\n",
        "    accuracy=val_correct/len(X_val)\n",
        "    vloss=val_loss/len(val_loader)\n",
        "    info = dict()\n",
        "    info['Epoch'] = epoch\n",
        "    info['Train_acc'] = ta\n",
        "    info['Train_loss'] = tl\n",
        "    info['Validation_acc'] = accuracy\n",
        "    info['Validation_loss'] = vloss\n",
        "    logg.append(info)\n",
        "    print(f\"Epoch {epoch+1}, Train Accuracy: {ta:.3f} Train Loss: {tl:.3f}. Validation Accuracy: {accuracy:.3f}  Validation Loss: {vloss:.3f}\")\n",
        "\n",
        "    # 早停机制\n",
        "    if vloss < best_val_loss:\n",
        "        best_val_loss = vloss\n",
        "        patience_counter = 0  # 重置计数器\n",
        "        torch.save(model, 'best_model.pth')  # 保存当前最优模型\n",
        "        print(f\"Model is saved （with Validation Loss: {vloss:.3f}）\")\n",
        "    else:\n",
        "        patience_counter += 1\n",
        "\n",
        "    if patience_counter >= early_stopping:\n",
        "        print(\"触发早停机制！\")\n",
        "        break\n",
        "\n",
        "#torch.save(model, 'final_model.pth')  # 训练结束后再存一个最终模型\n",
        "print(\"训练结束，最佳模型保存在 'best_model.pth'\")\n",
        "\n",
        "#torch.save(model,'vit_clf.pth')"
      ],
      "metadata": {
        "colab": {
          "base_uri": "https://localhost:8080/"
        },
        "id": "9RBNK4D3a7wt",
        "outputId": "ae14ce9d-12ce-4a28-9e8e-aee397238b90"
      },
      "execution_count": 14,
      "outputs": [
        {
          "output_type": "stream",
          "name": "stdout",
          "text": [
            "开始训练\n"
          ]
        },
        {
          "output_type": "stream",
          "name": "stderr",
          "text": [
            "<ipython-input-8-beecf7b113dc>:60: DeprecationWarning: Please import `zoom` from the `scipy.ndimage` namespace; the `scipy.ndimage.interpolation` namespace is deprecated and will be removed in SciPy 2.0.0.\n",
            "  data = ndimage.interpolation.zoom(data, scale, order=0)\n"
          ]
        },
        {
          "output_type": "stream",
          "name": "stdout",
          "text": [
            "Epoch 1, Train Accuracy: 0.658 Train Loss: 3.623. Validation Accuracy: 0.750  Validation Loss: 1.155\n",
            "Model is saved （with Validation Loss: 1.155）\n",
            "Epoch 2, Train Accuracy: 0.738 Train Loss: 0.902. Validation Accuracy: 0.817  Validation Loss: 0.448\n",
            "Model is saved （with Validation Loss: 0.448）\n",
            "Epoch 3, Train Accuracy: 0.788 Train Loss: 0.609. Validation Accuracy: 0.767  Validation Loss: 0.392\n",
            "Model is saved （with Validation Loss: 0.392）\n",
            "Epoch 4, Train Accuracy: 0.779 Train Loss: 0.753. Validation Accuracy: 0.817  Validation Loss: 1.149\n",
            "Epoch 5, Train Accuracy: 0.808 Train Loss: 0.615. Validation Accuracy: 0.750  Validation Loss: 0.951\n",
            "Epoch 6, Train Accuracy: 0.833 Train Loss: 0.496. Validation Accuracy: 0.750  Validation Loss: 0.625\n",
            "Epoch 7, Train Accuracy: 0.875 Train Loss: 0.296. Validation Accuracy: 0.783  Validation Loss: 1.001\n",
            "Epoch 8, Train Accuracy: 0.871 Train Loss: 0.522. Validation Accuracy: 0.833  Validation Loss: 1.743\n",
            "触发早停机制！\n",
            "训练结束，最佳模型保存在 'best_model.pth'\n"
          ]
        }
      ]
    },
    {
      "cell_type": "code",
      "source": [
        "import matplotlib.pyplot as plt\n",
        "def draw(logs: list):\n",
        "    plt.figure()\n",
        "    epoch = []\n",
        "    loss = []\n",
        "    acc = []\n",
        "    vacc = []\n",
        "    vloss = []\n",
        "    for log_ in logs:\n",
        "        epoch.append(log_['Epoch'])\n",
        "        loss.append(log_['Train_loss'])\n",
        "        acc.append(log_['Train_acc'])\n",
        "        vacc.append(log_['Validation_acc'])\n",
        "        vloss.append(log_['Validation_loss'])\n",
        "    plt.plot(epoch, acc, 'r-', label='Train Accuracy')\n",
        "    plt.plot(epoch, vacc, 'b-', label='Validation Accuracy')\n",
        "    plt.xlabel('epoch')\n",
        "    plt.legend()\n",
        "    plt.figure()\n",
        "    plt.plot(epoch, loss, 'r-', label='Train Loss')\n",
        "    plt.plot(epoch, vloss, 'b-', label='Validation Loss')\n",
        "    plt.xlabel('epoch')\n",
        "    plt.legend()\n",
        "    plt.show()\n",
        "\n",
        "draw(logg)"
      ],
      "metadata": {
        "colab": {
          "base_uri": "https://localhost:8080/",
          "height": 881
        },
        "collapsed": true,
        "id": "vHHhRfnWbHo-",
        "outputId": "a3ee9592-d98e-4b51-9e6c-f112830bb12a"
      },
      "execution_count": 15,
      "outputs": [
        {
          "output_type": "display_data",
          "data": {
            "text/plain": [
              "<Figure size 640x480 with 1 Axes>"
            ],
            "image/png": "[encoded data removed]"
          },
          "metadata": {}
        },
        {
          "output_type": "display_data",
          "data": {
            "text/plain": [
              "<Figure size 640x480 with 1 Axes>"
            ],
            "image/png": "[encoded data removed]"
          },
          "metadata": {}
        }
      ]
    },
    {
      "cell_type": "code",
      "source": [
        "def all_predict(test_dataloader,loadmodel,device,result_path):\n",
        "    ''' Predict the class (or classes) of an image using a trained deep learning model.\n",
        "    '''\n",
        "    result_df = pd.DataFrame(columns=['testa_id','label'])     #生成一张表格\n",
        "\n",
        "    with torch.no_grad():\n",
        "        loadmodel.to(device)\n",
        "        loadmodel.eval()\n",
        "        for ii,image in enumerate(test_dataloader):\n",
        "            image = image.to(device)\n",
        "            output = loadmodel(image)\n",
        "            _,indexs = torch.max(output.data,1)\n",
        "            #indexs = np.squeeze(indexs.cpu().detach().numpy()).tolist()\n",
        "            indexs = indexs.detach().cpu().numpy().tolist()\n",
        "            indexs = indexs[0]  # 提取单一标签值\n",
        "            #squeeze():将张量中维度为1的维度去掉  cpu():CPU计算  detach():阻止反向传播的梯度计算  numpy():tensor变量转numpy\n",
        "            if ii < len_temp_data_a:\n",
        "                result_df.loc[result_df.shape[0]] = [('testa_{}'.format(ii)),indexs]\n",
        "            else:\n",
        "                result_df.loc[result_df.shape[0]] = [('testb_{}'.format(ii - len_temp_data_a)),indexs]\n",
        "\n",
        "            if ii%20==0:\n",
        "                print('{} test data have been predicted'.format(ii))\n",
        "                print('--'*20)\n",
        "    result_df.to_csv(result_path,index=False)\n",
        "    print('Result is saved')\n",
        "\n",
        "device = torch.device(\"cuda\" if torch.cuda.is_available() else \"cpu\")\n",
        "temp_data1 = np.array(temp_data, dtype=np.int64)  # 确保是 int64\n",
        "temp_data = torch.tensor(temp_data1, dtype=torch.float32)  # 转换为 PyTorch Tensor\n",
        "test_datasets = MyDataset(datas=temp_data,shape=3,input_D=input_D,input_H=input_H,input_W=input_W,phase='test')\n",
        "test_loader = torch.utils.data.DataLoader(dataset=test_datasets)\n",
        "model=torch.load(\"best_model.pth\")\n",
        "all_predict(test_dataloader=test_loader,loadmodel=model,device=device,result_path='C_to_T.csv')  #F1-score:0.63132\n",
        "all_predict(test_dataloader=test_loader,loadmodel=CNNmodel,device=device,result_path='C.csv')   #F1-score:0.80923"
      ],
      "metadata": {
        "colab": {
          "base_uri": "https://localhost:8080/"
        },
        "collapsed": true,
        "id": "H0nj6GLjciMy",
        "outputId": "1af57c8d-272c-4dbc-9fad-17a9dd23abce"
      },
      "execution_count": 9,
      "outputs": [
        {
          "output_type": "stream",
          "name": "stderr",
          "text": [
            "<ipython-input-9-e6427c243a32>:33: FutureWarning: You are using `torch.load` with `weights_only=False` (the current default value), which uses the default pickle module implicitly. It is possible to construct malicious pickle data which will execute arbitrary code during unpickling (See https://github.com/pytorch/pytorch/blob/main/SECURITY.md#untrusted-models for more details). In a future release, the default value for `weights_only` will be flipped to `True`. This limits the functions that could be executed during unpickling. Arbitrary objects will no longer be allowed to be loaded via this mode unless they are explicitly allowlisted by the user via `torch.serialization.add_safe_globals`. We recommend you start setting `weights_only=True` for any use case where you don't have full control of the loaded file. Please open an issue on GitHub for any issues related to this experimental feature.\n",
            "  model=torch.load(\"best_model.pth\")\n",
            "<ipython-input-4-beecf7b113dc>:60: DeprecationWarning: Please import `zoom` from the `scipy.ndimage` namespace; the `scipy.ndimage.interpolation` namespace is deprecated and will be removed in SciPy 2.0.0.\n",
            "  data = ndimage.interpolation.zoom(data, scale, order=0)\n"
          ]
        },
        {
          "output_type": "stream",
          "name": "stdout",
          "text": [
            "0 test data have been predicted\n",
            "----------------------------------------\n"
          ]
        },
        {
          "output_type": "stream",
          "name": "stderr",
          "text": [
            "<ipython-input-4-beecf7b113dc>:60: DeprecationWarning: Please import `zoom` from the `scipy.ndimage` namespace; the `scipy.ndimage.interpolation` namespace is deprecated and will be removed in SciPy 2.0.0.\n",
            "  data = ndimage.interpolation.zoom(data, scale, order=0)\n",
            "<ipython-input-4-beecf7b113dc>:60: DeprecationWarning: Please import `zoom` from the `scipy.ndimage` namespace; the `scipy.ndimage.interpolation` namespace is deprecated and will be removed in SciPy 2.0.0.\n",
            "  data = ndimage.interpolation.zoom(data, scale, order=0)\n",
            "<ipython-input-4-beecf7b113dc>:60: DeprecationWarning: Please import `zoom` from the `scipy.ndimage` namespace; the `scipy.ndimage.interpolation` namespace is deprecated and will be removed in SciPy 2.0.0.\n",
            "  data = ndimage.interpolation.zoom(data, scale, order=0)\n",
            "<ipython-input-4-beecf7b113dc>:60: DeprecationWarning: Please import `zoom` from the `scipy.ndimage` namespace; the `scipy.ndimage.interpolation` namespace is deprecated and will be removed in SciPy 2.0.0.\n",
            "  data = ndimage.interpolation.zoom(data, scale, order=0)\n",
            "<ipython-input-4-beecf7b113dc>:60: DeprecationWarning: Please import `zoom` from the `scipy.ndimage` namespace; the `scipy.ndimage.interpolation` namespace is deprecated and will be removed in SciPy 2.0.0.\n",
            "  data = ndimage.interpolation.zoom(data, scale, order=0)\n",
            "<ipython-input-4-beecf7b113dc>:60: DeprecationWarning: Please import `zoom` from the `scipy.ndimage` namespace; the `scipy.ndimage.interpolation` namespace is deprecated and will be removed in SciPy 2.0.0.\n",
            "  data = ndimage.interpolation.zoom(data, scale, order=0)\n",
            "<ipython-input-4-beecf7b113dc>:60: DeprecationWarning: Please import `zoom` from the `scipy.ndimage` namespace; the `scipy.ndimage.interpolation` namespace is deprecated and will be removed in SciPy 2.0.0.\n",
            "  data = ndimage.interpolation.zoom(data, scale, order=0)\n",
            "<ipython-input-4-beecf7b113dc>:60: DeprecationWarning: Please import `zoom` from the `scipy.ndimage` namespace; the `scipy.ndimage.interpolation` namespace is deprecated and will be removed in SciPy 2.0.0.\n",
            "  data = ndimage.interpolation.zoom(data, scale, order=0)\n",
            "<ipython-input-4-beecf7b113dc>:60: DeprecationWarning: Please import `zoom` from the `scipy.ndimage` namespace; the `scipy.ndimage.interpolation` namespace is deprecated and will be removed in SciPy 2.0.0.\n",
            "  data = ndimage.interpolation.zoom(data, scale, order=0)\n",
            "<ipython-input-4-beecf7b113dc>:60: DeprecationWarning: Please import `zoom` from the `scipy.ndimage` namespace; the `scipy.ndimage.interpolation` namespace is deprecated and will be removed in SciPy 2.0.0.\n",
            "  data = ndimage.interpolation.zoom(data, scale, order=0)\n",
            "<ipython-input-4-beecf7b113dc>:60: DeprecationWarning: Please import `zoom` from the `scipy.ndimage` namespace; the `scipy.ndimage.interpolation` namespace is deprecated and will be removed in SciPy 2.0.0.\n",
            "  data = ndimage.interpolation.zoom(data, scale, order=0)\n",
            "<ipython-input-4-beecf7b113dc>:60: DeprecationWarning: Please import `zoom` from the `scipy.ndimage` namespace; the `scipy.ndimage.interpolation` namespace is deprecated and will be removed in SciPy 2.0.0.\n",
            "  data = ndimage.interpolation.zoom(data, scale, order=0)\n",
            "<ipython-input-4-beecf7b113dc>:60: DeprecationWarning: Please import `zoom` from the `scipy.ndimage` namespace; the `scipy.ndimage.interpolation` namespace is deprecated and will be removed in SciPy 2.0.0.\n",
            "  data = ndimage.interpolation.zoom(data, scale, order=0)\n",
            "<ipython-input-4-beecf7b113dc>:60: DeprecationWarning: Please import `zoom` from the `scipy.ndimage` namespace; the `scipy.ndimage.interpolation` namespace is deprecated and will be removed in SciPy 2.0.0.\n",
            "  data = ndimage.interpolation.zoom(data, scale, order=0)\n",
            "<ipython-input-4-beecf7b113dc>:60: DeprecationWarning: Please import `zoom` from the `scipy.ndimage` namespace; the `scipy.ndimage.interpolation` namespace is deprecated and will be removed in SciPy 2.0.0.\n",
            "  data = ndimage.interpolation.zoom(data, scale, order=0)\n",
            "<ipython-input-4-beecf7b113dc>:60: DeprecationWarning: Please import `zoom` from the `scipy.ndimage` namespace; the `scipy.ndimage.interpolation` namespace is deprecated and will be removed in SciPy 2.0.0.\n",
            "  data = ndimage.interpolation.zoom(data, scale, order=0)\n",
            "<ipython-input-4-beecf7b113dc>:60: DeprecationWarning: Please import `zoom` from the `scipy.ndimage` namespace; the `scipy.ndimage.interpolation` namespace is deprecated and will be removed in SciPy 2.0.0.\n",
            "  data = ndimage.interpolation.zoom(data, scale, order=0)\n",
            "<ipython-input-4-beecf7b113dc>:60: DeprecationWarning: Please import `zoom` from the `scipy.ndimage` namespace; the `scipy.ndimage.interpolation` namespace is deprecated and will be removed in SciPy 2.0.0.\n",
            "  data = ndimage.interpolation.zoom(data, scale, order=0)\n",
            "<ipython-input-4-beecf7b113dc>:60: DeprecationWarning: Please import `zoom` from the `scipy.ndimage` namespace; the `scipy.ndimage.interpolation` namespace is deprecated and will be removed in SciPy 2.0.0.\n",
            "  data = ndimage.interpolation.zoom(data, scale, order=0)\n",
            "<ipython-input-4-beecf7b113dc>:60: DeprecationWarning: Please import `zoom` from the `scipy.ndimage` namespace; the `scipy.ndimage.interpolation` namespace is deprecated and will be removed in SciPy 2.0.0.\n",
            "  data = ndimage.interpolation.zoom(data, scale, order=0)\n",
            "<ipython-input-4-beecf7b113dc>:60: DeprecationWarning: Please import `zoom` from the `scipy.ndimage` namespace; the `scipy.ndimage.interpolation` namespace is deprecated and will be removed in SciPy 2.0.0.\n",
            "  data = ndimage.interpolation.zoom(data, scale, order=0)\n",
            "<ipython-input-4-beecf7b113dc>:60: DeprecationWarning: Please import `zoom` from the `scipy.ndimage` namespace; the `scipy.ndimage.interpolation` namespace is deprecated and will be removed in SciPy 2.0.0.\n",
            "  data = ndimage.interpolation.zoom(data, scale, order=0)\n",
            "<ipython-input-4-beecf7b113dc>:60: DeprecationWarning: Please import `zoom` from the `scipy.ndimage` namespace; the `scipy.ndimage.interpolation` namespace is deprecated and will be removed in SciPy 2.0.0.\n",
            "  data = ndimage.interpolation.zoom(data, scale, order=0)\n"
          ]
        },
        {
          "output_type": "stream",
          "name": "stdout",
          "text": [
            "20 test data have been predicted\n",
            "----------------------------------------\n"
          ]
        },
        {
          "output_type": "stream",
          "name": "stderr",
          "text": [
            "<ipython-input-4-beecf7b113dc>:60: DeprecationWarning: Please import `zoom` from the `scipy.ndimage` namespace; the `scipy.ndimage.interpolation` namespace is deprecated and will be removed in SciPy 2.0.0.\n",
            "  data = ndimage.interpolation.zoom(data, scale, order=0)\n",
            "<ipython-input-4-beecf7b113dc>:60: DeprecationWarning: Please import `zoom` from the `scipy.ndimage` namespace; the `scipy.ndimage.interpolation` namespace is deprecated and will be removed in SciPy 2.0.0.\n",
            "  data = ndimage.interpolation.zoom(data, scale, order=0)\n",
            "<ipython-input-4-beecf7b113dc>:60: DeprecationWarning: Please import `zoom` from the `scipy.ndimage` namespace; the `scipy.ndimage.interpolation` namespace is deprecated and will be removed in SciPy 2.0.0.\n",
            "  data = ndimage.interpolation.zoom(data, scale, order=0)\n",
            "<ipython-input-4-beecf7b113dc>:60: DeprecationWarning: Please import `zoom` from the `scipy.ndimage` namespace; the `scipy.ndimage.interpolation` namespace is deprecated and will be removed in SciPy 2.0.0.\n",
            "  data = ndimage.interpolation.zoom(data, scale, order=0)\n",
            "<ipython-input-4-beecf7b113dc>:60: DeprecationWarning: Please import `zoom` from the `scipy.ndimage` namespace; the `scipy.ndimage.interpolation` namespace is deprecated and will be removed in SciPy 2.0.0.\n",
            "  data = ndimage.interpolation.zoom(data, scale, order=0)\n",
            "<ipython-input-4-beecf7b113dc>:60: DeprecationWarning: Please import `zoom` from the `scipy.ndimage` namespace; the `scipy.ndimage.interpolation` namespace is deprecated and will be removed in SciPy 2.0.0.\n",
            "  data = ndimage.interpolation.zoom(data, scale, order=0)\n",
            "<ipython-input-4-beecf7b113dc>:60: DeprecationWarning: Please import `zoom` from the `scipy.ndimage` namespace; the `scipy.ndimage.interpolation` namespace is deprecated and will be removed in SciPy 2.0.0.\n",
            "  data = ndimage.interpolation.zoom(data, scale, order=0)\n",
            "<ipython-input-4-beecf7b113dc>:60: DeprecationWarning: Please import `zoom` from the `scipy.ndimage` namespace; the `scipy.ndimage.interpolation` namespace is deprecated and will be removed in SciPy 2.0.0.\n",
            "  data = ndimage.interpolation.zoom(data, scale, order=0)\n",
            "<ipython-input-4-beecf7b113dc>:60: DeprecationWarning: Please import `zoom` from the `scipy.ndimage` namespace; the `scipy.ndimage.interpolation` namespace is deprecated and will be removed in SciPy 2.0.0.\n",
            "  data = ndimage.interpolation.zoom(data, scale, order=0)\n",
            "<ipython-input-4-beecf7b113dc>:60: DeprecationWarning: Please import `zoom` from the `scipy.ndimage` namespace; the `scipy.ndimage.interpolation` namespace is deprecated and will be removed in SciPy 2.0.0.\n",
            "  data = ndimage.interpolation.zoom(data, scale, order=0)\n",
            "<ipython-input-4-beecf7b113dc>:60: DeprecationWarning: Please import `zoom` from the `scipy.ndimage` namespace; the `scipy.ndimage.interpolation` namespace is deprecated and will be removed in SciPy 2.0.0.\n",
            "  data = ndimage.interpolation.zoom(data, scale, order=0)\n",
            "<ipython-input-4-beecf7b113dc>:60: DeprecationWarning: Please import `zoom` from the `scipy.ndimage` namespace; the `scipy.ndimage.interpolation` namespace is deprecated and will be removed in SciPy 2.0.0.\n",
            "  data = ndimage.interpolation.zoom(data, scale, order=0)\n",
            "<ipython-input-4-beecf7b113dc>:60: DeprecationWarning: Please import `zoom` from the `scipy.ndimage` namespace; the `scipy.ndimage.interpolation` namespace is deprecated and will be removed in SciPy 2.0.0.\n",
            "  data = ndimage.interpolation.zoom(data, scale, order=0)\n",
            "<ipython-input-4-beecf7b113dc>:60: DeprecationWarning: Please import `zoom` from the `scipy.ndimage` namespace; the `scipy.ndimage.interpolation` namespace is deprecated and will be removed in SciPy 2.0.0.\n",
            "  data = ndimage.interpolation.zoom(data, scale, order=0)\n",
            "<ipython-input-4-beecf7b113dc>:60: DeprecationWarning: Please import `zoom` from the `scipy.ndimage` namespace; the `scipy.ndimage.interpolation` namespace is deprecated and will be removed in SciPy 2.0.0.\n",
            "  data = ndimage.interpolation.zoom(data, scale, order=0)\n",
            "<ipython-input-4-beecf7b113dc>:60: DeprecationWarning: Please import `zoom` from the `scipy.ndimage` namespace; the `scipy.ndimage.interpolation` namespace is deprecated and will be removed in SciPy 2.0.0.\n",
            "  data = ndimage.interpolation.zoom(data, scale, order=0)\n",
            "<ipython-input-4-beecf7b113dc>:60: DeprecationWarning: Please import `zoom` from the `scipy.ndimage` namespace; the `scipy.ndimage.interpolation` namespace is deprecated and will be removed in SciPy 2.0.0.\n",
            "  data = ndimage.interpolation.zoom(data, scale, order=0)\n",
            "<ipython-input-4-beecf7b113dc>:60: DeprecationWarning: Please import `zoom` from the `scipy.ndimage` namespace; the `scipy.ndimage.interpolation` namespace is deprecated and will be removed in SciPy 2.0.0.\n",
            "  data = ndimage.interpolation.zoom(data, scale, order=0)\n",
            "<ipython-input-4-beecf7b113dc>:60: DeprecationWarning: Please import `zoom` from the `scipy.ndimage` namespace; the `scipy.ndimage.interpolation` namespace is deprecated and will be removed in SciPy 2.0.0.\n",
            "  data = ndimage.interpolation.zoom(data, scale, order=0)\n",
            "<ipython-input-4-beecf7b113dc>:60: DeprecationWarning: Please import `zoom` from the `scipy.ndimage` namespace; the `scipy.ndimage.interpolation` namespace is deprecated and will be removed in SciPy 2.0.0.\n",
            "  data = ndimage.interpolation.zoom(data, scale, order=0)\n"
          ]
        },
        {
          "output_type": "stream",
          "name": "stdout",
          "text": [
            "40 test data have been predicted\n",
            "----------------------------------------\n"
          ]
        },
        {
          "output_type": "stream",
          "name": "stderr",
          "text": [
            "<ipython-input-4-beecf7b113dc>:60: DeprecationWarning: Please import `zoom` from the `scipy.ndimage` namespace; the `scipy.ndimage.interpolation` namespace is deprecated and will be removed in SciPy 2.0.0.\n",
            "  data = ndimage.interpolation.zoom(data, scale, order=0)\n",
            "<ipython-input-4-beecf7b113dc>:60: DeprecationWarning: Please import `zoom` from the `scipy.ndimage` namespace; the `scipy.ndimage.interpolation` namespace is deprecated and will be removed in SciPy 2.0.0.\n",
            "  data = ndimage.interpolation.zoom(data, scale, order=0)\n",
            "<ipython-input-4-beecf7b113dc>:60: DeprecationWarning: Please import `zoom` from the `scipy.ndimage` namespace; the `scipy.ndimage.interpolation` namespace is deprecated and will be removed in SciPy 2.0.0.\n",
            "  data = ndimage.interpolation.zoom(data, scale, order=0)\n",
            "<ipython-input-4-beecf7b113dc>:60: DeprecationWarning: Please import `zoom` from the `scipy.ndimage` namespace; the `scipy.ndimage.interpolation` namespace is deprecated and will be removed in SciPy 2.0.0.\n",
            "  data = ndimage.interpolation.zoom(data, scale, order=0)\n",
            "<ipython-input-4-beecf7b113dc>:60: DeprecationWarning: Please import `zoom` from the `scipy.ndimage` namespace; the `scipy.ndimage.interpolation` namespace is deprecated and will be removed in SciPy 2.0.0.\n",
            "  data = ndimage.interpolation.zoom(data, scale, order=0)\n",
            "<ipython-input-4-beecf7b113dc>:60: DeprecationWarning: Please import `zoom` from the `scipy.ndimage` namespace; the `scipy.ndimage.interpolation` namespace is deprecated and will be removed in SciPy 2.0.0.\n",
            "  data = ndimage.interpolation.zoom(data, scale, order=0)\n",
            "<ipython-input-4-beecf7b113dc>:60: DeprecationWarning: Please import `zoom` from the `scipy.ndimage` namespace; the `scipy.ndimage.interpolation` namespace is deprecated and will be removed in SciPy 2.0.0.\n",
            "  data = ndimage.interpolation.zoom(data, scale, order=0)\n",
            "<ipython-input-4-beecf7b113dc>:60: DeprecationWarning: Please import `zoom` from the `scipy.ndimage` namespace; the `scipy.ndimage.interpolation` namespace is deprecated and will be removed in SciPy 2.0.0.\n",
            "  data = ndimage.interpolation.zoom(data, scale, order=0)\n",
            "<ipython-input-4-beecf7b113dc>:60: DeprecationWarning: Please import `zoom` from the `scipy.ndimage` namespace; the `scipy.ndimage.interpolation` namespace is deprecated and will be removed in SciPy 2.0.0.\n",
            "  data = ndimage.interpolation.zoom(data, scale, order=0)\n",
            "<ipython-input-4-beecf7b113dc>:60: DeprecationWarning: Please import `zoom` from the `scipy.ndimage` namespace; the `scipy.ndimage.interpolation` namespace is deprecated and will be removed in SciPy 2.0.0.\n",
            "  data = ndimage.interpolation.zoom(data, scale, order=0)\n",
            "<ipython-input-4-beecf7b113dc>:60: DeprecationWarning: Please import `zoom` from the `scipy.ndimage` namespace; the `scipy.ndimage.interpolation` namespace is deprecated and will be removed in SciPy 2.0.0.\n",
            "  data = ndimage.interpolation.zoom(data, scale, order=0)\n",
            "<ipython-input-4-beecf7b113dc>:60: DeprecationWarning: Please import `zoom` from the `scipy.ndimage` namespace; the `scipy.ndimage.interpolation` namespace is deprecated and will be removed in SciPy 2.0.0.\n",
            "  data = ndimage.interpolation.zoom(data, scale, order=0)\n",
            "<ipython-input-4-beecf7b113dc>:60: DeprecationWarning: Please import `zoom` from the `scipy.ndimage` namespace; the `scipy.ndimage.interpolation` namespace is deprecated and will be removed in SciPy 2.0.0.\n",
            "  data = ndimage.interpolation.zoom(data, scale, order=0)\n",
            "<ipython-input-4-beecf7b113dc>:60: DeprecationWarning: Please import `zoom` from the `scipy.ndimage` namespace; the `scipy.ndimage.interpolation` namespace is deprecated and will be removed in SciPy 2.0.0.\n",
            "  data = ndimage.interpolation.zoom(data, scale, order=0)\n",
            "<ipython-input-4-beecf7b113dc>:60: DeprecationWarning: Please import `zoom` from the `scipy.ndimage` namespace; the `scipy.ndimage.interpolation` namespace is deprecated and will be removed in SciPy 2.0.0.\n",
            "  data = ndimage.interpolation.zoom(data, scale, order=0)\n",
            "<ipython-input-4-beecf7b113dc>:60: DeprecationWarning: Please import `zoom` from the `scipy.ndimage` namespace; the `scipy.ndimage.interpolation` namespace is deprecated and will be removed in SciPy 2.0.0.\n",
            "  data = ndimage.interpolation.zoom(data, scale, order=0)\n",
            "<ipython-input-4-beecf7b113dc>:60: DeprecationWarning: Please import `zoom` from the `scipy.ndimage` namespace; the `scipy.ndimage.interpolation` namespace is deprecated and will be removed in SciPy 2.0.0.\n",
            "  data = ndimage.interpolation.zoom(data, scale, order=0)\n"
          ]
        },
        {
          "output_type": "stream",
          "name": "stdout",
          "text": [
            "60 test data have been predicted\n",
            "----------------------------------------\n"
          ]
        },
        {
          "output_type": "stream",
          "name": "stderr",
          "text": [
            "<ipython-input-4-beecf7b113dc>:60: DeprecationWarning: Please import `zoom` from the `scipy.ndimage` namespace; the `scipy.ndimage.interpolation` namespace is deprecated and will be removed in SciPy 2.0.0.\n",
            "  data = ndimage.interpolation.zoom(data, scale, order=0)\n",
            "<ipython-input-4-beecf7b113dc>:60: DeprecationWarning: Please import `zoom` from the `scipy.ndimage` namespace; the `scipy.ndimage.interpolation` namespace is deprecated and will be removed in SciPy 2.0.0.\n",
            "  data = ndimage.interpolation.zoom(data, scale, order=0)\n",
            "<ipython-input-4-beecf7b113dc>:60: DeprecationWarning: Please import `zoom` from the `scipy.ndimage` namespace; the `scipy.ndimage.interpolation` namespace is deprecated and will be removed in SciPy 2.0.0.\n",
            "  data = ndimage.interpolation.zoom(data, scale, order=0)\n",
            "<ipython-input-4-beecf7b113dc>:60: DeprecationWarning: Please import `zoom` from the `scipy.ndimage` namespace; the `scipy.ndimage.interpolation` namespace is deprecated and will be removed in SciPy 2.0.0.\n",
            "  data = ndimage.interpolation.zoom(data, scale, order=0)\n",
            "<ipython-input-4-beecf7b113dc>:60: DeprecationWarning: Please import `zoom` from the `scipy.ndimage` namespace; the `scipy.ndimage.interpolation` namespace is deprecated and will be removed in SciPy 2.0.0.\n",
            "  data = ndimage.interpolation.zoom(data, scale, order=0)\n",
            "<ipython-input-4-beecf7b113dc>:60: DeprecationWarning: Please import `zoom` from the `scipy.ndimage` namespace; the `scipy.ndimage.interpolation` namespace is deprecated and will be removed in SciPy 2.0.0.\n",
            "  data = ndimage.interpolation.zoom(data, scale, order=0)\n",
            "<ipython-input-4-beecf7b113dc>:60: DeprecationWarning: Please import `zoom` from the `scipy.ndimage` namespace; the `scipy.ndimage.interpolation` namespace is deprecated and will be removed in SciPy 2.0.0.\n",
            "  data = ndimage.interpolation.zoom(data, scale, order=0)\n",
            "<ipython-input-4-beecf7b113dc>:60: DeprecationWarning: Please import `zoom` from the `scipy.ndimage` namespace; the `scipy.ndimage.interpolation` namespace is deprecated and will be removed in SciPy 2.0.0.\n",
            "  data = ndimage.interpolation.zoom(data, scale, order=0)\n",
            "<ipython-input-4-beecf7b113dc>:60: DeprecationWarning: Please import `zoom` from the `scipy.ndimage` namespace; the `scipy.ndimage.interpolation` namespace is deprecated and will be removed in SciPy 2.0.0.\n",
            "  data = ndimage.interpolation.zoom(data, scale, order=0)\n",
            "<ipython-input-4-beecf7b113dc>:60: DeprecationWarning: Please import `zoom` from the `scipy.ndimage` namespace; the `scipy.ndimage.interpolation` namespace is deprecated and will be removed in SciPy 2.0.0.\n",
            "  data = ndimage.interpolation.zoom(data, scale, order=0)\n",
            "<ipython-input-4-beecf7b113dc>:60: DeprecationWarning: Please import `zoom` from the `scipy.ndimage` namespace; the `scipy.ndimage.interpolation` namespace is deprecated and will be removed in SciPy 2.0.0.\n",
            "  data = ndimage.interpolation.zoom(data, scale, order=0)\n",
            "<ipython-input-4-beecf7b113dc>:60: DeprecationWarning: Please import `zoom` from the `scipy.ndimage` namespace; the `scipy.ndimage.interpolation` namespace is deprecated and will be removed in SciPy 2.0.0.\n",
            "  data = ndimage.interpolation.zoom(data, scale, order=0)\n",
            "<ipython-input-4-beecf7b113dc>:60: DeprecationWarning: Please import `zoom` from the `scipy.ndimage` namespace; the `scipy.ndimage.interpolation` namespace is deprecated and will be removed in SciPy 2.0.0.\n",
            "  data = ndimage.interpolation.zoom(data, scale, order=0)\n",
            "<ipython-input-4-beecf7b113dc>:60: DeprecationWarning: Please import `zoom` from the `scipy.ndimage` namespace; the `scipy.ndimage.interpolation` namespace is deprecated and will be removed in SciPy 2.0.0.\n",
            "  data = ndimage.interpolation.zoom(data, scale, order=0)\n",
            "<ipython-input-4-beecf7b113dc>:60: DeprecationWarning: Please import `zoom` from the `scipy.ndimage` namespace; the `scipy.ndimage.interpolation` namespace is deprecated and will be removed in SciPy 2.0.0.\n",
            "  data = ndimage.interpolation.zoom(data, scale, order=0)\n",
            "<ipython-input-4-beecf7b113dc>:60: DeprecationWarning: Please import `zoom` from the `scipy.ndimage` namespace; the `scipy.ndimage.interpolation` namespace is deprecated and will be removed in SciPy 2.0.0.\n",
            "  data = ndimage.interpolation.zoom(data, scale, order=0)\n",
            "<ipython-input-4-beecf7b113dc>:60: DeprecationWarning: Please import `zoom` from the `scipy.ndimage` namespace; the `scipy.ndimage.interpolation` namespace is deprecated and will be removed in SciPy 2.0.0.\n",
            "  data = ndimage.interpolation.zoom(data, scale, order=0)\n",
            "<ipython-input-4-beecf7b113dc>:60: DeprecationWarning: Please import `zoom` from the `scipy.ndimage` namespace; the `scipy.ndimage.interpolation` namespace is deprecated and will be removed in SciPy 2.0.0.\n",
            "  data = ndimage.interpolation.zoom(data, scale, order=0)\n",
            "<ipython-input-4-beecf7b113dc>:60: DeprecationWarning: Please import `zoom` from the `scipy.ndimage` namespace; the `scipy.ndimage.interpolation` namespace is deprecated and will be removed in SciPy 2.0.0.\n",
            "  data = ndimage.interpolation.zoom(data, scale, order=0)\n",
            "<ipython-input-4-beecf7b113dc>:60: DeprecationWarning: Please import `zoom` from the `scipy.ndimage` namespace; the `scipy.ndimage.interpolation` namespace is deprecated and will be removed in SciPy 2.0.0.\n",
            "  data = ndimage.interpolation.zoom(data, scale, order=0)\n",
            "<ipython-input-4-beecf7b113dc>:60: DeprecationWarning: Please import `zoom` from the `scipy.ndimage` namespace; the `scipy.ndimage.interpolation` namespace is deprecated and will be removed in SciPy 2.0.0.\n",
            "  data = ndimage.interpolation.zoom(data, scale, order=0)\n",
            "<ipython-input-4-beecf7b113dc>:60: DeprecationWarning: Please import `zoom` from the `scipy.ndimage` namespace; the `scipy.ndimage.interpolation` namespace is deprecated and will be removed in SciPy 2.0.0.\n",
            "  data = ndimage.interpolation.zoom(data, scale, order=0)\n"
          ]
        },
        {
          "output_type": "stream",
          "name": "stdout",
          "text": [
            "80 test data have been predicted\n",
            "----------------------------------------\n"
          ]
        },
        {
          "output_type": "stream",
          "name": "stderr",
          "text": [
            "<ipython-input-4-beecf7b113dc>:60: DeprecationWarning: Please import `zoom` from the `scipy.ndimage` namespace; the `scipy.ndimage.interpolation` namespace is deprecated and will be removed in SciPy 2.0.0.\n",
            "  data = ndimage.interpolation.zoom(data, scale, order=0)\n",
            "<ipython-input-4-beecf7b113dc>:60: DeprecationWarning: Please import `zoom` from the `scipy.ndimage` namespace; the `scipy.ndimage.interpolation` namespace is deprecated and will be removed in SciPy 2.0.0.\n",
            "  data = ndimage.interpolation.zoom(data, scale, order=0)\n",
            "<ipython-input-4-beecf7b113dc>:60: DeprecationWarning: Please import `zoom` from the `scipy.ndimage` namespace; the `scipy.ndimage.interpolation` namespace is deprecated and will be removed in SciPy 2.0.0.\n",
            "  data = ndimage.interpolation.zoom(data, scale, order=0)\n",
            "<ipython-input-4-beecf7b113dc>:60: DeprecationWarning: Please import `zoom` from the `scipy.ndimage` namespace; the `scipy.ndimage.interpolation` namespace is deprecated and will be removed in SciPy 2.0.0.\n",
            "  data = ndimage.interpolation.zoom(data, scale, order=0)\n",
            "<ipython-input-4-beecf7b113dc>:60: DeprecationWarning: Please import `zoom` from the `scipy.ndimage` namespace; the `scipy.ndimage.interpolation` namespace is deprecated and will be removed in SciPy 2.0.0.\n",
            "  data = ndimage.interpolation.zoom(data, scale, order=0)\n",
            "<ipython-input-4-beecf7b113dc>:60: DeprecationWarning: Please import `zoom` from the `scipy.ndimage` namespace; the `scipy.ndimage.interpolation` namespace is deprecated and will be removed in SciPy 2.0.0.\n",
            "  data = ndimage.interpolation.zoom(data, scale, order=0)\n",
            "<ipython-input-4-beecf7b113dc>:60: DeprecationWarning: Please import `zoom` from the `scipy.ndimage` namespace; the `scipy.ndimage.interpolation` namespace is deprecated and will be removed in SciPy 2.0.0.\n",
            "  data = ndimage.interpolation.zoom(data, scale, order=0)\n",
            "<ipython-input-4-beecf7b113dc>:60: DeprecationWarning: Please import `zoom` from the `scipy.ndimage` namespace; the `scipy.ndimage.interpolation` namespace is deprecated and will be removed in SciPy 2.0.0.\n",
            "  data = ndimage.interpolation.zoom(data, scale, order=0)\n",
            "<ipython-input-4-beecf7b113dc>:60: DeprecationWarning: Please import `zoom` from the `scipy.ndimage` namespace; the `scipy.ndimage.interpolation` namespace is deprecated and will be removed in SciPy 2.0.0.\n",
            "  data = ndimage.interpolation.zoom(data, scale, order=0)\n",
            "<ipython-input-4-beecf7b113dc>:60: DeprecationWarning: Please import `zoom` from the `scipy.ndimage` namespace; the `scipy.ndimage.interpolation` namespace is deprecated and will be removed in SciPy 2.0.0.\n",
            "  data = ndimage.interpolation.zoom(data, scale, order=0)\n",
            "<ipython-input-4-beecf7b113dc>:60: DeprecationWarning: Please import `zoom` from the `scipy.ndimage` namespace; the `scipy.ndimage.interpolation` namespace is deprecated and will be removed in SciPy 2.0.0.\n",
            "  data = ndimage.interpolation.zoom(data, scale, order=0)\n",
            "<ipython-input-4-beecf7b113dc>:60: DeprecationWarning: Please import `zoom` from the `scipy.ndimage` namespace; the `scipy.ndimage.interpolation` namespace is deprecated and will be removed in SciPy 2.0.0.\n",
            "  data = ndimage.interpolation.zoom(data, scale, order=0)\n",
            "<ipython-input-4-beecf7b113dc>:60: DeprecationWarning: Please import `zoom` from the `scipy.ndimage` namespace; the `scipy.ndimage.interpolation` namespace is deprecated and will be removed in SciPy 2.0.0.\n",
            "  data = ndimage.interpolation.zoom(data, scale, order=0)\n",
            "<ipython-input-4-beecf7b113dc>:60: DeprecationWarning: Please import `zoom` from the `scipy.ndimage` namespace; the `scipy.ndimage.interpolation` namespace is deprecated and will be removed in SciPy 2.0.0.\n",
            "  data = ndimage.interpolation.zoom(data, scale, order=0)\n",
            "<ipython-input-4-beecf7b113dc>:60: DeprecationWarning: Please import `zoom` from the `scipy.ndimage` namespace; the `scipy.ndimage.interpolation` namespace is deprecated and will be removed in SciPy 2.0.0.\n",
            "  data = ndimage.interpolation.zoom(data, scale, order=0)\n",
            "<ipython-input-4-beecf7b113dc>:60: DeprecationWarning: Please import `zoom` from the `scipy.ndimage` namespace; the `scipy.ndimage.interpolation` namespace is deprecated and will be removed in SciPy 2.0.0.\n",
            "  data = ndimage.interpolation.zoom(data, scale, order=0)\n",
            "<ipython-input-4-beecf7b113dc>:60: DeprecationWarning: Please import `zoom` from the `scipy.ndimage` namespace; the `scipy.ndimage.interpolation` namespace is deprecated and will be removed in SciPy 2.0.0.\n",
            "  data = ndimage.interpolation.zoom(data, scale, order=0)\n",
            "<ipython-input-4-beecf7b113dc>:60: DeprecationWarning: Please import `zoom` from the `scipy.ndimage` namespace; the `scipy.ndimage.interpolation` namespace is deprecated and will be removed in SciPy 2.0.0.\n",
            "  data = ndimage.interpolation.zoom(data, scale, order=0)\n"
          ]
        },
        {
          "output_type": "stream",
          "name": "stdout",
          "text": [
            "100 test data have been predicted\n",
            "----------------------------------------\n"
          ]
        },
        {
          "output_type": "stream",
          "name": "stderr",
          "text": [
            "<ipython-input-4-beecf7b113dc>:60: DeprecationWarning: Please import `zoom` from the `scipy.ndimage` namespace; the `scipy.ndimage.interpolation` namespace is deprecated and will be removed in SciPy 2.0.0.\n",
            "  data = ndimage.interpolation.zoom(data, scale, order=0)\n",
            "<ipython-input-4-beecf7b113dc>:60: DeprecationWarning: Please import `zoom` from the `scipy.ndimage` namespace; the `scipy.ndimage.interpolation` namespace is deprecated and will be removed in SciPy 2.0.0.\n",
            "  data = ndimage.interpolation.zoom(data, scale, order=0)\n",
            "<ipython-input-4-beecf7b113dc>:60: DeprecationWarning: Please import `zoom` from the `scipy.ndimage` namespace; the `scipy.ndimage.interpolation` namespace is deprecated and will be removed in SciPy 2.0.0.\n",
            "  data = ndimage.interpolation.zoom(data, scale, order=0)\n",
            "<ipython-input-4-beecf7b113dc>:60: DeprecationWarning: Please import `zoom` from the `scipy.ndimage` namespace; the `scipy.ndimage.interpolation` namespace is deprecated and will be removed in SciPy 2.0.0.\n",
            "  data = ndimage.interpolation.zoom(data, scale, order=0)\n",
            "<ipython-input-4-beecf7b113dc>:60: DeprecationWarning: Please import `zoom` from the `scipy.ndimage` namespace; the `scipy.ndimage.interpolation` namespace is deprecated and will be removed in SciPy 2.0.0.\n",
            "  data = ndimage.interpolation.zoom(data, scale, order=0)\n",
            "<ipython-input-4-beecf7b113dc>:60: DeprecationWarning: Please import `zoom` from the `scipy.ndimage` namespace; the `scipy.ndimage.interpolation` namespace is deprecated and will be removed in SciPy 2.0.0.\n",
            "  data = ndimage.interpolation.zoom(data, scale, order=0)\n",
            "<ipython-input-4-beecf7b113dc>:60: DeprecationWarning: Please import `zoom` from the `scipy.ndimage` namespace; the `scipy.ndimage.interpolation` namespace is deprecated and will be removed in SciPy 2.0.0.\n",
            "  data = ndimage.interpolation.zoom(data, scale, order=0)\n",
            "<ipython-input-4-beecf7b113dc>:60: DeprecationWarning: Please import `zoom` from the `scipy.ndimage` namespace; the `scipy.ndimage.interpolation` namespace is deprecated and will be removed in SciPy 2.0.0.\n",
            "  data = ndimage.interpolation.zoom(data, scale, order=0)\n",
            "<ipython-input-4-beecf7b113dc>:60: DeprecationWarning: Please import `zoom` from the `scipy.ndimage` namespace; the `scipy.ndimage.interpolation` namespace is deprecated and will be removed in SciPy 2.0.0.\n",
            "  data = ndimage.interpolation.zoom(data, scale, order=0)\n",
            "<ipython-input-4-beecf7b113dc>:60: DeprecationWarning: Please import `zoom` from the `scipy.ndimage` namespace; the `scipy.ndimage.interpolation` namespace is deprecated and will be removed in SciPy 2.0.0.\n",
            "  data = ndimage.interpolation.zoom(data, scale, order=0)\n",
            "<ipython-input-4-beecf7b113dc>:60: DeprecationWarning: Please import `zoom` from the `scipy.ndimage` namespace; the `scipy.ndimage.interpolation` namespace is deprecated and will be removed in SciPy 2.0.0.\n",
            "  data = ndimage.interpolation.zoom(data, scale, order=0)\n",
            "<ipython-input-4-beecf7b113dc>:60: DeprecationWarning: Please import `zoom` from the `scipy.ndimage` namespace; the `scipy.ndimage.interpolation` namespace is deprecated and will be removed in SciPy 2.0.0.\n",
            "  data = ndimage.interpolation.zoom(data, scale, order=0)\n",
            "<ipython-input-4-beecf7b113dc>:60: DeprecationWarning: Please import `zoom` from the `scipy.ndimage` namespace; the `scipy.ndimage.interpolation` namespace is deprecated and will be removed in SciPy 2.0.0.\n",
            "  data = ndimage.interpolation.zoom(data, scale, order=0)\n",
            "<ipython-input-4-beecf7b113dc>:60: DeprecationWarning: Please import `zoom` from the `scipy.ndimage` namespace; the `scipy.ndimage.interpolation` namespace is deprecated and will be removed in SciPy 2.0.0.\n",
            "  data = ndimage.interpolation.zoom(data, scale, order=0)\n",
            "<ipython-input-4-beecf7b113dc>:60: DeprecationWarning: Please import `zoom` from the `scipy.ndimage` namespace; the `scipy.ndimage.interpolation` namespace is deprecated and will be removed in SciPy 2.0.0.\n",
            "  data = ndimage.interpolation.zoom(data, scale, order=0)\n",
            "<ipython-input-4-beecf7b113dc>:60: DeprecationWarning: Please import `zoom` from the `scipy.ndimage` namespace; the `scipy.ndimage.interpolation` namespace is deprecated and will be removed in SciPy 2.0.0.\n",
            "  data = ndimage.interpolation.zoom(data, scale, order=0)\n",
            "<ipython-input-4-beecf7b113dc>:60: DeprecationWarning: Please import `zoom` from the `scipy.ndimage` namespace; the `scipy.ndimage.interpolation` namespace is deprecated and will be removed in SciPy 2.0.0.\n",
            "  data = ndimage.interpolation.zoom(data, scale, order=0)\n",
            "<ipython-input-4-beecf7b113dc>:60: DeprecationWarning: Please import `zoom` from the `scipy.ndimage` namespace; the `scipy.ndimage.interpolation` namespace is deprecated and will be removed in SciPy 2.0.0.\n",
            "  data = ndimage.interpolation.zoom(data, scale, order=0)\n",
            "<ipython-input-4-beecf7b113dc>:60: DeprecationWarning: Please import `zoom` from the `scipy.ndimage` namespace; the `scipy.ndimage.interpolation` namespace is deprecated and will be removed in SciPy 2.0.0.\n",
            "  data = ndimage.interpolation.zoom(data, scale, order=0)\n",
            "<ipython-input-4-beecf7b113dc>:60: DeprecationWarning: Please import `zoom` from the `scipy.ndimage` namespace; the `scipy.ndimage.interpolation` namespace is deprecated and will be removed in SciPy 2.0.0.\n",
            "  data = ndimage.interpolation.zoom(data, scale, order=0)\n"
          ]
        },
        {
          "output_type": "stream",
          "name": "stdout",
          "text": [
            "120 test data have been predicted\n",
            "----------------------------------------\n"
          ]
        },
        {
          "output_type": "stream",
          "name": "stderr",
          "text": [
            "<ipython-input-4-beecf7b113dc>:60: DeprecationWarning: Please import `zoom` from the `scipy.ndimage` namespace; the `scipy.ndimage.interpolation` namespace is deprecated and will be removed in SciPy 2.0.0.\n",
            "  data = ndimage.interpolation.zoom(data, scale, order=0)\n",
            "<ipython-input-4-beecf7b113dc>:60: DeprecationWarning: Please import `zoom` from the `scipy.ndimage` namespace; the `scipy.ndimage.interpolation` namespace is deprecated and will be removed in SciPy 2.0.0.\n",
            "  data = ndimage.interpolation.zoom(data, scale, order=0)\n",
            "<ipython-input-4-beecf7b113dc>:60: DeprecationWarning: Please import `zoom` from the `scipy.ndimage` namespace; the `scipy.ndimage.interpolation` namespace is deprecated and will be removed in SciPy 2.0.0.\n",
            "  data = ndimage.interpolation.zoom(data, scale, order=0)\n",
            "<ipython-input-4-beecf7b113dc>:60: DeprecationWarning: Please import `zoom` from the `scipy.ndimage` namespace; the `scipy.ndimage.interpolation` namespace is deprecated and will be removed in SciPy 2.0.0.\n",
            "  data = ndimage.interpolation.zoom(data, scale, order=0)\n",
            "<ipython-input-4-beecf7b113dc>:60: DeprecationWarning: Please import `zoom` from the `scipy.ndimage` namespace; the `scipy.ndimage.interpolation` namespace is deprecated and will be removed in SciPy 2.0.0.\n",
            "  data = ndimage.interpolation.zoom(data, scale, order=0)\n",
            "<ipython-input-4-beecf7b113dc>:60: DeprecationWarning: Please import `zoom` from the `scipy.ndimage` namespace; the `scipy.ndimage.interpolation` namespace is deprecated and will be removed in SciPy 2.0.0.\n",
            "  data = ndimage.interpolation.zoom(data, scale, order=0)\n",
            "<ipython-input-4-beecf7b113dc>:60: DeprecationWarning: Please import `zoom` from the `scipy.ndimage` namespace; the `scipy.ndimage.interpolation` namespace is deprecated and will be removed in SciPy 2.0.0.\n",
            "  data = ndimage.interpolation.zoom(data, scale, order=0)\n",
            "<ipython-input-4-beecf7b113dc>:60: DeprecationWarning: Please import `zoom` from the `scipy.ndimage` namespace; the `scipy.ndimage.interpolation` namespace is deprecated and will be removed in SciPy 2.0.0.\n",
            "  data = ndimage.interpolation.zoom(data, scale, order=0)\n",
            "<ipython-input-4-beecf7b113dc>:60: DeprecationWarning: Please import `zoom` from the `scipy.ndimage` namespace; the `scipy.ndimage.interpolation` namespace is deprecated and will be removed in SciPy 2.0.0.\n",
            "  data = ndimage.interpolation.zoom(data, scale, order=0)\n",
            "<ipython-input-4-beecf7b113dc>:60: DeprecationWarning: Please import `zoom` from the `scipy.ndimage` namespace; the `scipy.ndimage.interpolation` namespace is deprecated and will be removed in SciPy 2.0.0.\n",
            "  data = ndimage.interpolation.zoom(data, scale, order=0)\n",
            "<ipython-input-4-beecf7b113dc>:60: DeprecationWarning: Please import `zoom` from the `scipy.ndimage` namespace; the `scipy.ndimage.interpolation` namespace is deprecated and will be removed in SciPy 2.0.0.\n",
            "  data = ndimage.interpolation.zoom(data, scale, order=0)\n",
            "<ipython-input-4-beecf7b113dc>:60: DeprecationWarning: Please import `zoom` from the `scipy.ndimage` namespace; the `scipy.ndimage.interpolation` namespace is deprecated and will be removed in SciPy 2.0.0.\n",
            "  data = ndimage.interpolation.zoom(data, scale, order=0)\n",
            "<ipython-input-4-beecf7b113dc>:60: DeprecationWarning: Please import `zoom` from the `scipy.ndimage` namespace; the `scipy.ndimage.interpolation` namespace is deprecated and will be removed in SciPy 2.0.0.\n",
            "  data = ndimage.interpolation.zoom(data, scale, order=0)\n",
            "<ipython-input-4-beecf7b113dc>:60: DeprecationWarning: Please import `zoom` from the `scipy.ndimage` namespace; the `scipy.ndimage.interpolation` namespace is deprecated and will be removed in SciPy 2.0.0.\n",
            "  data = ndimage.interpolation.zoom(data, scale, order=0)\n",
            "<ipython-input-4-beecf7b113dc>:60: DeprecationWarning: Please import `zoom` from the `scipy.ndimage` namespace; the `scipy.ndimage.interpolation` namespace is deprecated and will be removed in SciPy 2.0.0.\n",
            "  data = ndimage.interpolation.zoom(data, scale, order=0)\n",
            "<ipython-input-4-beecf7b113dc>:60: DeprecationWarning: Please import `zoom` from the `scipy.ndimage` namespace; the `scipy.ndimage.interpolation` namespace is deprecated and will be removed in SciPy 2.0.0.\n",
            "  data = ndimage.interpolation.zoom(data, scale, order=0)\n",
            "<ipython-input-4-beecf7b113dc>:60: DeprecationWarning: Please import `zoom` from the `scipy.ndimage` namespace; the `scipy.ndimage.interpolation` namespace is deprecated and will be removed in SciPy 2.0.0.\n",
            "  data = ndimage.interpolation.zoom(data, scale, order=0)\n",
            "<ipython-input-4-beecf7b113dc>:60: DeprecationWarning: Please import `zoom` from the `scipy.ndimage` namespace; the `scipy.ndimage.interpolation` namespace is deprecated and will be removed in SciPy 2.0.0.\n",
            "  data = ndimage.interpolation.zoom(data, scale, order=0)\n",
            "<ipython-input-4-beecf7b113dc>:60: DeprecationWarning: Please import `zoom` from the `scipy.ndimage` namespace; the `scipy.ndimage.interpolation` namespace is deprecated and will be removed in SciPy 2.0.0.\n",
            "  data = ndimage.interpolation.zoom(data, scale, order=0)\n",
            "<ipython-input-4-beecf7b113dc>:60: DeprecationWarning: Please import `zoom` from the `scipy.ndimage` namespace; the `scipy.ndimage.interpolation` namespace is deprecated and will be removed in SciPy 2.0.0.\n",
            "  data = ndimage.interpolation.zoom(data, scale, order=0)\n",
            "<ipython-input-4-beecf7b113dc>:60: DeprecationWarning: Please import `zoom` from the `scipy.ndimage` namespace; the `scipy.ndimage.interpolation` namespace is deprecated and will be removed in SciPy 2.0.0.\n",
            "  data = ndimage.interpolation.zoom(data, scale, order=0)\n"
          ]
        },
        {
          "output_type": "stream",
          "name": "stdout",
          "text": [
            "140 test data have been predicted\n",
            "----------------------------------------\n"
          ]
        },
        {
          "output_type": "stream",
          "name": "stderr",
          "text": [
            "<ipython-input-4-beecf7b113dc>:60: DeprecationWarning: Please import `zoom` from the `scipy.ndimage` namespace; the `scipy.ndimage.interpolation` namespace is deprecated and will be removed in SciPy 2.0.0.\n",
            "  data = ndimage.interpolation.zoom(data, scale, order=0)\n",
            "<ipython-input-4-beecf7b113dc>:60: DeprecationWarning: Please import `zoom` from the `scipy.ndimage` namespace; the `scipy.ndimage.interpolation` namespace is deprecated and will be removed in SciPy 2.0.0.\n",
            "  data = ndimage.interpolation.zoom(data, scale, order=0)\n",
            "<ipython-input-4-beecf7b113dc>:60: DeprecationWarning: Please import `zoom` from the `scipy.ndimage` namespace; the `scipy.ndimage.interpolation` namespace is deprecated and will be removed in SciPy 2.0.0.\n",
            "  data = ndimage.interpolation.zoom(data, scale, order=0)\n",
            "<ipython-input-4-beecf7b113dc>:60: DeprecationWarning: Please import `zoom` from the `scipy.ndimage` namespace; the `scipy.ndimage.interpolation` namespace is deprecated and will be removed in SciPy 2.0.0.\n",
            "  data = ndimage.interpolation.zoom(data, scale, order=0)\n",
            "<ipython-input-4-beecf7b113dc>:60: DeprecationWarning: Please import `zoom` from the `scipy.ndimage` namespace; the `scipy.ndimage.interpolation` namespace is deprecated and will be removed in SciPy 2.0.0.\n",
            "  data = ndimage.interpolation.zoom(data, scale, order=0)\n",
            "<ipython-input-4-beecf7b113dc>:60: DeprecationWarning: Please import `zoom` from the `scipy.ndimage` namespace; the `scipy.ndimage.interpolation` namespace is deprecated and will be removed in SciPy 2.0.0.\n",
            "  data = ndimage.interpolation.zoom(data, scale, order=0)\n",
            "<ipython-input-4-beecf7b113dc>:60: DeprecationWarning: Please import `zoom` from the `scipy.ndimage` namespace; the `scipy.ndimage.interpolation` namespace is deprecated and will be removed in SciPy 2.0.0.\n",
            "  data = ndimage.interpolation.zoom(data, scale, order=0)\n",
            "<ipython-input-4-beecf7b113dc>:60: DeprecationWarning: Please import `zoom` from the `scipy.ndimage` namespace; the `scipy.ndimage.interpolation` namespace is deprecated and will be removed in SciPy 2.0.0.\n",
            "  data = ndimage.interpolation.zoom(data, scale, order=0)\n",
            "<ipython-input-4-beecf7b113dc>:60: DeprecationWarning: Please import `zoom` from the `scipy.ndimage` namespace; the `scipy.ndimage.interpolation` namespace is deprecated and will be removed in SciPy 2.0.0.\n",
            "  data = ndimage.interpolation.zoom(data, scale, order=0)\n",
            "<ipython-input-4-beecf7b113dc>:60: DeprecationWarning: Please import `zoom` from the `scipy.ndimage` namespace; the `scipy.ndimage.interpolation` namespace is deprecated and will be removed in SciPy 2.0.0.\n",
            "  data = ndimage.interpolation.zoom(data, scale, order=0)\n",
            "<ipython-input-4-beecf7b113dc>:60: DeprecationWarning: Please import `zoom` from the `scipy.ndimage` namespace; the `scipy.ndimage.interpolation` namespace is deprecated and will be removed in SciPy 2.0.0.\n",
            "  data = ndimage.interpolation.zoom(data, scale, order=0)\n",
            "<ipython-input-4-beecf7b113dc>:60: DeprecationWarning: Please import `zoom` from the `scipy.ndimage` namespace; the `scipy.ndimage.interpolation` namespace is deprecated and will be removed in SciPy 2.0.0.\n",
            "  data = ndimage.interpolation.zoom(data, scale, order=0)\n",
            "<ipython-input-4-beecf7b113dc>:60: DeprecationWarning: Please import `zoom` from the `scipy.ndimage` namespace; the `scipy.ndimage.interpolation` namespace is deprecated and will be removed in SciPy 2.0.0.\n",
            "  data = ndimage.interpolation.zoom(data, scale, order=0)\n",
            "<ipython-input-4-beecf7b113dc>:60: DeprecationWarning: Please import `zoom` from the `scipy.ndimage` namespace; the `scipy.ndimage.interpolation` namespace is deprecated and will be removed in SciPy 2.0.0.\n",
            "  data = ndimage.interpolation.zoom(data, scale, order=0)\n",
            "<ipython-input-4-beecf7b113dc>:60: DeprecationWarning: Please import `zoom` from the `scipy.ndimage` namespace; the `scipy.ndimage.interpolation` namespace is deprecated and will be removed in SciPy 2.0.0.\n",
            "  data = ndimage.interpolation.zoom(data, scale, order=0)\n",
            "<ipython-input-4-beecf7b113dc>:60: DeprecationWarning: Please import `zoom` from the `scipy.ndimage` namespace; the `scipy.ndimage.interpolation` namespace is deprecated and will be removed in SciPy 2.0.0.\n",
            "  data = ndimage.interpolation.zoom(data, scale, order=0)\n",
            "<ipython-input-4-beecf7b113dc>:60: DeprecationWarning: Please import `zoom` from the `scipy.ndimage` namespace; the `scipy.ndimage.interpolation` namespace is deprecated and will be removed in SciPy 2.0.0.\n",
            "  data = ndimage.interpolation.zoom(data, scale, order=0)\n",
            "<ipython-input-4-beecf7b113dc>:60: DeprecationWarning: Please import `zoom` from the `scipy.ndimage` namespace; the `scipy.ndimage.interpolation` namespace is deprecated and will be removed in SciPy 2.0.0.\n",
            "  data = ndimage.interpolation.zoom(data, scale, order=0)\n",
            "<ipython-input-4-beecf7b113dc>:60: DeprecationWarning: Please import `zoom` from the `scipy.ndimage` namespace; the `scipy.ndimage.interpolation` namespace is deprecated and will be removed in SciPy 2.0.0.\n",
            "  data = ndimage.interpolation.zoom(data, scale, order=0)\n",
            "<ipython-input-4-beecf7b113dc>:60: DeprecationWarning: Please import `zoom` from the `scipy.ndimage` namespace; the `scipy.ndimage.interpolation` namespace is deprecated and will be removed in SciPy 2.0.0.\n",
            "  data = ndimage.interpolation.zoom(data, scale, order=0)\n",
            "<ipython-input-4-beecf7b113dc>:60: DeprecationWarning: Please import `zoom` from the `scipy.ndimage` namespace; the `scipy.ndimage.interpolation` namespace is deprecated and will be removed in SciPy 2.0.0.\n",
            "  data = ndimage.interpolation.zoom(data, scale, order=0)\n",
            "<ipython-input-4-beecf7b113dc>:60: DeprecationWarning: Please import `zoom` from the `scipy.ndimage` namespace; the `scipy.ndimage.interpolation` namespace is deprecated and will be removed in SciPy 2.0.0.\n",
            "  data = ndimage.interpolation.zoom(data, scale, order=0)\n"
          ]
        },
        {
          "output_type": "stream",
          "name": "stdout",
          "text": [
            "160 test data have been predicted\n",
            "----------------------------------------\n"
          ]
        },
        {
          "output_type": "stream",
          "name": "stderr",
          "text": [
            "<ipython-input-4-beecf7b113dc>:60: DeprecationWarning: Please import `zoom` from the `scipy.ndimage` namespace; the `scipy.ndimage.interpolation` namespace is deprecated and will be removed in SciPy 2.0.0.\n",
            "  data = ndimage.interpolation.zoom(data, scale, order=0)\n",
            "<ipython-input-4-beecf7b113dc>:60: DeprecationWarning: Please import `zoom` from the `scipy.ndimage` namespace; the `scipy.ndimage.interpolation` namespace is deprecated and will be removed in SciPy 2.0.0.\n",
            "  data = ndimage.interpolation.zoom(data, scale, order=0)\n",
            "<ipython-input-4-beecf7b113dc>:60: DeprecationWarning: Please import `zoom` from the `scipy.ndimage` namespace; the `scipy.ndimage.interpolation` namespace is deprecated and will be removed in SciPy 2.0.0.\n",
            "  data = ndimage.interpolation.zoom(data, scale, order=0)\n",
            "<ipython-input-4-beecf7b113dc>:60: DeprecationWarning: Please import `zoom` from the `scipy.ndimage` namespace; the `scipy.ndimage.interpolation` namespace is deprecated and will be removed in SciPy 2.0.0.\n",
            "  data = ndimage.interpolation.zoom(data, scale, order=0)\n",
            "<ipython-input-4-beecf7b113dc>:60: DeprecationWarning: Please import `zoom` from the `scipy.ndimage` namespace; the `scipy.ndimage.interpolation` namespace is deprecated and will be removed in SciPy 2.0.0.\n",
            "  data = ndimage.interpolation.zoom(data, scale, order=0)\n",
            "<ipython-input-4-beecf7b113dc>:60: DeprecationWarning: Please import `zoom` from the `scipy.ndimage` namespace; the `scipy.ndimage.interpolation` namespace is deprecated and will be removed in SciPy 2.0.0.\n",
            "  data = ndimage.interpolation.zoom(data, scale, order=0)\n",
            "<ipython-input-4-beecf7b113dc>:60: DeprecationWarning: Please import `zoom` from the `scipy.ndimage` namespace; the `scipy.ndimage.interpolation` namespace is deprecated and will be removed in SciPy 2.0.0.\n",
            "  data = ndimage.interpolation.zoom(data, scale, order=0)\n",
            "<ipython-input-4-beecf7b113dc>:60: DeprecationWarning: Please import `zoom` from the `scipy.ndimage` namespace; the `scipy.ndimage.interpolation` namespace is deprecated and will be removed in SciPy 2.0.0.\n",
            "  data = ndimage.interpolation.zoom(data, scale, order=0)\n",
            "<ipython-input-4-beecf7b113dc>:60: DeprecationWarning: Please import `zoom` from the `scipy.ndimage` namespace; the `scipy.ndimage.interpolation` namespace is deprecated and will be removed in SciPy 2.0.0.\n",
            "  data = ndimage.interpolation.zoom(data, scale, order=0)\n",
            "<ipython-input-4-beecf7b113dc>:60: DeprecationWarning: Please import `zoom` from the `scipy.ndimage` namespace; the `scipy.ndimage.interpolation` namespace is deprecated and will be removed in SciPy 2.0.0.\n",
            "  data = ndimage.interpolation.zoom(data, scale, order=0)\n",
            "<ipython-input-4-beecf7b113dc>:60: DeprecationWarning: Please import `zoom` from the `scipy.ndimage` namespace; the `scipy.ndimage.interpolation` namespace is deprecated and will be removed in SciPy 2.0.0.\n",
            "  data = ndimage.interpolation.zoom(data, scale, order=0)\n",
            "<ipython-input-4-beecf7b113dc>:60: DeprecationWarning: Please import `zoom` from the `scipy.ndimage` namespace; the `scipy.ndimage.interpolation` namespace is deprecated and will be removed in SciPy 2.0.0.\n",
            "  data = ndimage.interpolation.zoom(data, scale, order=0)\n",
            "<ipython-input-4-beecf7b113dc>:60: DeprecationWarning: Please import `zoom` from the `scipy.ndimage` namespace; the `scipy.ndimage.interpolation` namespace is deprecated and will be removed in SciPy 2.0.0.\n",
            "  data = ndimage.interpolation.zoom(data, scale, order=0)\n",
            "<ipython-input-4-beecf7b113dc>:60: DeprecationWarning: Please import `zoom` from the `scipy.ndimage` namespace; the `scipy.ndimage.interpolation` namespace is deprecated and will be removed in SciPy 2.0.0.\n",
            "  data = ndimage.interpolation.zoom(data, scale, order=0)\n",
            "<ipython-input-4-beecf7b113dc>:60: DeprecationWarning: Please import `zoom` from the `scipy.ndimage` namespace; the `scipy.ndimage.interpolation` namespace is deprecated and will be removed in SciPy 2.0.0.\n",
            "  data = ndimage.interpolation.zoom(data, scale, order=0)\n",
            "<ipython-input-4-beecf7b113dc>:60: DeprecationWarning: Please import `zoom` from the `scipy.ndimage` namespace; the `scipy.ndimage.interpolation` namespace is deprecated and will be removed in SciPy 2.0.0.\n",
            "  data = ndimage.interpolation.zoom(data, scale, order=0)\n",
            "<ipython-input-4-beecf7b113dc>:60: DeprecationWarning: Please import `zoom` from the `scipy.ndimage` namespace; the `scipy.ndimage.interpolation` namespace is deprecated and will be removed in SciPy 2.0.0.\n",
            "  data = ndimage.interpolation.zoom(data, scale, order=0)\n"
          ]
        },
        {
          "output_type": "stream",
          "name": "stdout",
          "text": [
            "180 test data have been predicted\n",
            "----------------------------------------\n"
          ]
        },
        {
          "output_type": "stream",
          "name": "stderr",
          "text": [
            "<ipython-input-4-beecf7b113dc>:60: DeprecationWarning: Please import `zoom` from the `scipy.ndimage` namespace; the `scipy.ndimage.interpolation` namespace is deprecated and will be removed in SciPy 2.0.0.\n",
            "  data = ndimage.interpolation.zoom(data, scale, order=0)\n",
            "<ipython-input-4-beecf7b113dc>:60: DeprecationWarning: Please import `zoom` from the `scipy.ndimage` namespace; the `scipy.ndimage.interpolation` namespace is deprecated and will be removed in SciPy 2.0.0.\n",
            "  data = ndimage.interpolation.zoom(data, scale, order=0)\n",
            "<ipython-input-4-beecf7b113dc>:60: DeprecationWarning: Please import `zoom` from the `scipy.ndimage` namespace; the `scipy.ndimage.interpolation` namespace is deprecated and will be removed in SciPy 2.0.0.\n",
            "  data = ndimage.interpolation.zoom(data, scale, order=0)\n",
            "<ipython-input-4-beecf7b113dc>:60: DeprecationWarning: Please import `zoom` from the `scipy.ndimage` namespace; the `scipy.ndimage.interpolation` namespace is deprecated and will be removed in SciPy 2.0.0.\n",
            "  data = ndimage.interpolation.zoom(data, scale, order=0)\n",
            "<ipython-input-4-beecf7b113dc>:60: DeprecationWarning: Please import `zoom` from the `scipy.ndimage` namespace; the `scipy.ndimage.interpolation` namespace is deprecated and will be removed in SciPy 2.0.0.\n",
            "  data = ndimage.interpolation.zoom(data, scale, order=0)\n",
            "<ipython-input-4-beecf7b113dc>:60: DeprecationWarning: Please import `zoom` from the `scipy.ndimage` namespace; the `scipy.ndimage.interpolation` namespace is deprecated and will be removed in SciPy 2.0.0.\n",
            "  data = ndimage.interpolation.zoom(data, scale, order=0)\n",
            "<ipython-input-4-beecf7b113dc>:60: DeprecationWarning: Please import `zoom` from the `scipy.ndimage` namespace; the `scipy.ndimage.interpolation` namespace is deprecated and will be removed in SciPy 2.0.0.\n",
            "  data = ndimage.interpolation.zoom(data, scale, order=0)\n",
            "<ipython-input-4-beecf7b113dc>:60: DeprecationWarning: Please import `zoom` from the `scipy.ndimage` namespace; the `scipy.ndimage.interpolation` namespace is deprecated and will be removed in SciPy 2.0.0.\n",
            "  data = ndimage.interpolation.zoom(data, scale, order=0)\n",
            "<ipython-input-4-beecf7b113dc>:60: DeprecationWarning: Please import `zoom` from the `scipy.ndimage` namespace; the `scipy.ndimage.interpolation` namespace is deprecated and will be removed in SciPy 2.0.0.\n",
            "  data = ndimage.interpolation.zoom(data, scale, order=0)\n",
            "<ipython-input-4-beecf7b113dc>:60: DeprecationWarning: Please import `zoom` from the `scipy.ndimage` namespace; the `scipy.ndimage.interpolation` namespace is deprecated and will be removed in SciPy 2.0.0.\n",
            "  data = ndimage.interpolation.zoom(data, scale, order=0)\n",
            "<ipython-input-4-beecf7b113dc>:60: DeprecationWarning: Please import `zoom` from the `scipy.ndimage` namespace; the `scipy.ndimage.interpolation` namespace is deprecated and will be removed in SciPy 2.0.0.\n",
            "  data = ndimage.interpolation.zoom(data, scale, order=0)\n",
            "<ipython-input-4-beecf7b113dc>:60: DeprecationWarning: Please import `zoom` from the `scipy.ndimage` namespace; the `scipy.ndimage.interpolation` namespace is deprecated and will be removed in SciPy 2.0.0.\n",
            "  data = ndimage.interpolation.zoom(data, scale, order=0)\n",
            "<ipython-input-4-beecf7b113dc>:60: DeprecationWarning: Please import `zoom` from the `scipy.ndimage` namespace; the `scipy.ndimage.interpolation` namespace is deprecated and will be removed in SciPy 2.0.0.\n",
            "  data = ndimage.interpolation.zoom(data, scale, order=0)\n",
            "<ipython-input-4-beecf7b113dc>:60: DeprecationWarning: Please import `zoom` from the `scipy.ndimage` namespace; the `scipy.ndimage.interpolation` namespace is deprecated and will be removed in SciPy 2.0.0.\n",
            "  data = ndimage.interpolation.zoom(data, scale, order=0)\n",
            "<ipython-input-4-beecf7b113dc>:60: DeprecationWarning: Please import `zoom` from the `scipy.ndimage` namespace; the `scipy.ndimage.interpolation` namespace is deprecated and will be removed in SciPy 2.0.0.\n",
            "  data = ndimage.interpolation.zoom(data, scale, order=0)\n",
            "<ipython-input-4-beecf7b113dc>:60: DeprecationWarning: Please import `zoom` from the `scipy.ndimage` namespace; the `scipy.ndimage.interpolation` namespace is deprecated and will be removed in SciPy 2.0.0.\n",
            "  data = ndimage.interpolation.zoom(data, scale, order=0)\n",
            "<ipython-input-4-beecf7b113dc>:60: DeprecationWarning: Please import `zoom` from the `scipy.ndimage` namespace; the `scipy.ndimage.interpolation` namespace is deprecated and will be removed in SciPy 2.0.0.\n",
            "  data = ndimage.interpolation.zoom(data, scale, order=0)\n",
            "<ipython-input-4-beecf7b113dc>:60: DeprecationWarning: Please import `zoom` from the `scipy.ndimage` namespace; the `scipy.ndimage.interpolation` namespace is deprecated and will be removed in SciPy 2.0.0.\n",
            "  data = ndimage.interpolation.zoom(data, scale, order=0)\n",
            "<ipython-input-4-beecf7b113dc>:60: DeprecationWarning: Please import `zoom` from the `scipy.ndimage` namespace; the `scipy.ndimage.interpolation` namespace is deprecated and will be removed in SciPy 2.0.0.\n",
            "  data = ndimage.interpolation.zoom(data, scale, order=0)\n",
            "<ipython-input-4-beecf7b113dc>:60: DeprecationWarning: Please import `zoom` from the `scipy.ndimage` namespace; the `scipy.ndimage.interpolation` namespace is deprecated and will be removed in SciPy 2.0.0.\n",
            "  data = ndimage.interpolation.zoom(data, scale, order=0)\n",
            "<ipython-input-4-beecf7b113dc>:60: DeprecationWarning: Please import `zoom` from the `scipy.ndimage` namespace; the `scipy.ndimage.interpolation` namespace is deprecated and will be removed in SciPy 2.0.0.\n",
            "  data = ndimage.interpolation.zoom(data, scale, order=0)\n",
            "<ipython-input-4-beecf7b113dc>:60: DeprecationWarning: Please import `zoom` from the `scipy.ndimage` namespace; the `scipy.ndimage.interpolation` namespace is deprecated and will be removed in SciPy 2.0.0.\n",
            "  data = ndimage.interpolation.zoom(data, scale, order=0)\n",
            "<ipython-input-4-beecf7b113dc>:60: DeprecationWarning: Please import `zoom` from the `scipy.ndimage` namespace; the `scipy.ndimage.interpolation` namespace is deprecated and will be removed in SciPy 2.0.0.\n",
            "  data = ndimage.interpolation.zoom(data, scale, order=0)\n"
          ]
        },
        {
          "output_type": "stream",
          "name": "stdout",
          "text": [
            "200 test data have been predicted\n",
            "----------------------------------------\n"
          ]
        },
        {
          "output_type": "stream",
          "name": "stderr",
          "text": [
            "<ipython-input-4-beecf7b113dc>:60: DeprecationWarning: Please import `zoom` from the `scipy.ndimage` namespace; the `scipy.ndimage.interpolation` namespace is deprecated and will be removed in SciPy 2.0.0.\n",
            "  data = ndimage.interpolation.zoom(data, scale, order=0)\n",
            "<ipython-input-4-beecf7b113dc>:60: DeprecationWarning: Please import `zoom` from the `scipy.ndimage` namespace; the `scipy.ndimage.interpolation` namespace is deprecated and will be removed in SciPy 2.0.0.\n",
            "  data = ndimage.interpolation.zoom(data, scale, order=0)\n",
            "<ipython-input-4-beecf7b113dc>:60: DeprecationWarning: Please import `zoom` from the `scipy.ndimage` namespace; the `scipy.ndimage.interpolation` namespace is deprecated and will be removed in SciPy 2.0.0.\n",
            "  data = ndimage.interpolation.zoom(data, scale, order=0)\n",
            "<ipython-input-4-beecf7b113dc>:60: DeprecationWarning: Please import `zoom` from the `scipy.ndimage` namespace; the `scipy.ndimage.interpolation` namespace is deprecated and will be removed in SciPy 2.0.0.\n",
            "  data = ndimage.interpolation.zoom(data, scale, order=0)\n",
            "<ipython-input-4-beecf7b113dc>:60: DeprecationWarning: Please import `zoom` from the `scipy.ndimage` namespace; the `scipy.ndimage.interpolation` namespace is deprecated and will be removed in SciPy 2.0.0.\n",
            "  data = ndimage.interpolation.zoom(data, scale, order=0)\n",
            "<ipython-input-4-beecf7b113dc>:60: DeprecationWarning: Please import `zoom` from the `scipy.ndimage` namespace; the `scipy.ndimage.interpolation` namespace is deprecated and will be removed in SciPy 2.0.0.\n",
            "  data = ndimage.interpolation.zoom(data, scale, order=0)\n",
            "<ipython-input-4-beecf7b113dc>:60: DeprecationWarning: Please import `zoom` from the `scipy.ndimage` namespace; the `scipy.ndimage.interpolation` namespace is deprecated and will be removed in SciPy 2.0.0.\n",
            "  data = ndimage.interpolation.zoom(data, scale, order=0)\n",
            "<ipython-input-4-beecf7b113dc>:60: DeprecationWarning: Please import `zoom` from the `scipy.ndimage` namespace; the `scipy.ndimage.interpolation` namespace is deprecated and will be removed in SciPy 2.0.0.\n",
            "  data = ndimage.interpolation.zoom(data, scale, order=0)\n",
            "<ipython-input-4-beecf7b113dc>:60: DeprecationWarning: Please import `zoom` from the `scipy.ndimage` namespace; the `scipy.ndimage.interpolation` namespace is deprecated and will be removed in SciPy 2.0.0.\n",
            "  data = ndimage.interpolation.zoom(data, scale, order=0)\n",
            "<ipython-input-4-beecf7b113dc>:60: DeprecationWarning: Please import `zoom` from the `scipy.ndimage` namespace; the `scipy.ndimage.interpolation` namespace is deprecated and will be removed in SciPy 2.0.0.\n",
            "  data = ndimage.interpolation.zoom(data, scale, order=0)\n",
            "<ipython-input-4-beecf7b113dc>:60: DeprecationWarning: Please import `zoom` from the `scipy.ndimage` namespace; the `scipy.ndimage.interpolation` namespace is deprecated and will be removed in SciPy 2.0.0.\n",
            "  data = ndimage.interpolation.zoom(data, scale, order=0)\n",
            "<ipython-input-4-beecf7b113dc>:60: DeprecationWarning: Please import `zoom` from the `scipy.ndimage` namespace; the `scipy.ndimage.interpolation` namespace is deprecated and will be removed in SciPy 2.0.0.\n",
            "  data = ndimage.interpolation.zoom(data, scale, order=0)\n",
            "<ipython-input-4-beecf7b113dc>:60: DeprecationWarning: Please import `zoom` from the `scipy.ndimage` namespace; the `scipy.ndimage.interpolation` namespace is deprecated and will be removed in SciPy 2.0.0.\n",
            "  data = ndimage.interpolation.zoom(data, scale, order=0)\n",
            "<ipython-input-4-beecf7b113dc>:60: DeprecationWarning: Please import `zoom` from the `scipy.ndimage` namespace; the `scipy.ndimage.interpolation` namespace is deprecated and will be removed in SciPy 2.0.0.\n",
            "  data = ndimage.interpolation.zoom(data, scale, order=0)\n",
            "<ipython-input-4-beecf7b113dc>:60: DeprecationWarning: Please import `zoom` from the `scipy.ndimage` namespace; the `scipy.ndimage.interpolation` namespace is deprecated and will be removed in SciPy 2.0.0.\n",
            "  data = ndimage.interpolation.zoom(data, scale, order=0)\n",
            "<ipython-input-4-beecf7b113dc>:60: DeprecationWarning: Please import `zoom` from the `scipy.ndimage` namespace; the `scipy.ndimage.interpolation` namespace is deprecated and will be removed in SciPy 2.0.0.\n",
            "  data = ndimage.interpolation.zoom(data, scale, order=0)\n",
            "<ipython-input-4-beecf7b113dc>:60: DeprecationWarning: Please import `zoom` from the `scipy.ndimage` namespace; the `scipy.ndimage.interpolation` namespace is deprecated and will be removed in SciPy 2.0.0.\n",
            "  data = ndimage.interpolation.zoom(data, scale, order=0)\n",
            "<ipython-input-4-beecf7b113dc>:60: DeprecationWarning: Please import `zoom` from the `scipy.ndimage` namespace; the `scipy.ndimage.interpolation` namespace is deprecated and will be removed in SciPy 2.0.0.\n",
            "  data = ndimage.interpolation.zoom(data, scale, order=0)\n",
            "<ipython-input-4-beecf7b113dc>:60: DeprecationWarning: Please import `zoom` from the `scipy.ndimage` namespace; the `scipy.ndimage.interpolation` namespace is deprecated and will be removed in SciPy 2.0.0.\n",
            "  data = ndimage.interpolation.zoom(data, scale, order=0)\n"
          ]
        },
        {
          "output_type": "stream",
          "name": "stdout",
          "text": [
            "220 test data have been predicted\n",
            "----------------------------------------\n"
          ]
        },
        {
          "output_type": "stream",
          "name": "stderr",
          "text": [
            "<ipython-input-4-beecf7b113dc>:60: DeprecationWarning: Please import `zoom` from the `scipy.ndimage` namespace; the `scipy.ndimage.interpolation` namespace is deprecated and will be removed in SciPy 2.0.0.\n",
            "  data = ndimage.interpolation.zoom(data, scale, order=0)\n",
            "<ipython-input-4-beecf7b113dc>:60: DeprecationWarning: Please import `zoom` from the `scipy.ndimage` namespace; the `scipy.ndimage.interpolation` namespace is deprecated and will be removed in SciPy 2.0.0.\n",
            "  data = ndimage.interpolation.zoom(data, scale, order=0)\n",
            "<ipython-input-4-beecf7b113dc>:60: DeprecationWarning: Please import `zoom` from the `scipy.ndimage` namespace; the `scipy.ndimage.interpolation` namespace is deprecated and will be removed in SciPy 2.0.0.\n",
            "  data = ndimage.interpolation.zoom(data, scale, order=0)\n",
            "<ipython-input-4-beecf7b113dc>:60: DeprecationWarning: Please import `zoom` from the `scipy.ndimage` namespace; the `scipy.ndimage.interpolation` namespace is deprecated and will be removed in SciPy 2.0.0.\n",
            "  data = ndimage.interpolation.zoom(data, scale, order=0)\n",
            "<ipython-input-4-beecf7b113dc>:60: DeprecationWarning: Please import `zoom` from the `scipy.ndimage` namespace; the `scipy.ndimage.interpolation` namespace is deprecated and will be removed in SciPy 2.0.0.\n",
            "  data = ndimage.interpolation.zoom(data, scale, order=0)\n",
            "<ipython-input-4-beecf7b113dc>:60: DeprecationWarning: Please import `zoom` from the `scipy.ndimage` namespace; the `scipy.ndimage.interpolation` namespace is deprecated and will be removed in SciPy 2.0.0.\n",
            "  data = ndimage.interpolation.zoom(data, scale, order=0)\n",
            "<ipython-input-4-beecf7b113dc>:60: DeprecationWarning: Please import `zoom` from the `scipy.ndimage` namespace; the `scipy.ndimage.interpolation` namespace is deprecated and will be removed in SciPy 2.0.0.\n",
            "  data = ndimage.interpolation.zoom(data, scale, order=0)\n",
            "<ipython-input-4-beecf7b113dc>:60: DeprecationWarning: Please import `zoom` from the `scipy.ndimage` namespace; the `scipy.ndimage.interpolation` namespace is deprecated and will be removed in SciPy 2.0.0.\n",
            "  data = ndimage.interpolation.zoom(data, scale, order=0)\n"
          ]
        },
        {
          "output_type": "stream",
          "name": "stdout",
          "text": [
            "Result is saved\n"
          ]
        },
        {
          "output_type": "stream",
          "name": "stderr",
          "text": [
            "<ipython-input-4-beecf7b113dc>:60: DeprecationWarning: Please import `zoom` from the `scipy.ndimage` namespace; the `scipy.ndimage.interpolation` namespace is deprecated and will be removed in SciPy 2.0.0.\n",
            "  data = ndimage.interpolation.zoom(data, scale, order=0)\n"
          ]
        }
      ]
    },
    {
      "cell_type": "code",
      "source": [
        "import torch\n",
        "import torch.nn as nn\n",
        "\n",
        "class CombinedModel(nn.Module):\n",
        "    def __init__(self, cnn_model, transformer_model):\n",
        "        super(CombinedModel, self).__init__()\n",
        "        self.cnn = cnn_model  # 使用 3D CNN 模型\n",
        "        for param in self.cnn.parameters():\n",
        "          param.requires_grad = False\n",
        "        self.transformer = transformer_model  # 使用 ViT Transformer 模型\n",
        "        for param in self.transformer.parameters():\n",
        "          param.requires_grad = False\n",
        "        self.fc = nn.Linear(768, 3)  # 最后的分类层\n",
        "        self.linear = nn.Linear(128, 768)\n",
        "\n",
        "    def forward(self, x):\n",
        "        # 1. 通过 CNN 模型提取特征\n",
        "        cnn_features = self.cnn(x,return_features=True)  # CNN 输出大小: (batch_size, 256) 或其他尺寸\n",
        "        #print(\"1\",cnn_features.shape)  # 1 torch.Size([2, 128, 1, 2, 1])\n",
        "        # 2. 调整 CNN 特征为 Transformer 可接受的格式\n",
        "        cnn_features = cnn_features.view(cnn_features.size(0),-1, cnn_features.size(1))  # 变成 (batch_size, channels, height, width)\n",
        "        #print(\"2\", cnn_features.shape)  # 2 torch.Size([2, 128, 2, 1])\n",
        "\n",
        "      # 3. 通过线性层将特征的通道数从128调整为768\n",
        "        cnn_features = self.linear(cnn_features)  # 变成 (batch_size, num_patches, 768)\n",
        "        #print(\"3\", cnn_features.shape)  # torch.Size([2, 128, 768])\n",
        "\n",
        "        # 3. 输入 Transformer 进行进一步处理\n",
        "        transformer_output = self.transformer.vit.encoder(cnn_features)[0]  # (batch_size, 1, 768) 这里是最终的表示\n",
        "\n",
        "        # 4. 将 Transformer 输出送入分类层进行预测\n",
        "        #output = self.fc(transformer_output.squeeze(1))  # (batch_size, 3)\n",
        "\n",
        "        # 5. 通过池化操作选取 Transformer 输出中的 [CLS] token 进行分类（或者进行其他的聚合）\n",
        "        cls_token_output = transformer_output[:, 0, :]  # 取 [CLS] token 对应的输出，形状: (batch_size, 768)\n",
        "        #print(\"5\", cls_token_output.shape)  # torch.Size([2, 768])\n",
        "\n",
        "        # 6. 将 Transformer 输出送入分类层进行预测\n",
        "        output = self.fc(cls_token_output)  # (batch_size, 3)\n",
        "        return output\n",
        "\n",
        "        return output\n",
        "\n",
        "# 创建 CNN 和 Transformer 模型\n",
        "cnn_model = CNNmodel  # 你定义的 CNN3D 模型\n",
        "transformer_model = ViTmodel  # 预训练的 ViT 模型\n",
        "\n",
        "# 创建组合模型\n",
        "CTmodel = CombinedModel(cnn_model, transformer_model)\n",
        "\n",
        "# 假设你有输入数据\n",
        "input_data = torch.randn(2, 1, 79, 95, 79)  # 示例的 3D 输入数据\n",
        "\n",
        "# 进行前向传播\n",
        "output = CTmodel(input_data)\n",
        "print(output.shape)  # 应该是 (batch_size, num_classes)，例如 (2, 3)\n"
      ],
      "metadata": {
        "colab": {
          "base_uri": "https://localhost:8080/"
        },
        "id": "tTnZtsGXrSHI",
        "outputId": "a7c0e819-f7f3-4478-ac79-7c3f6c3109af"
      },
      "execution_count": 32,
      "outputs": [
        {
          "output_type": "stream",
          "name": "stdout",
          "text": [
            "torch.Size([2, 3])\n"
          ]
        }
      ]
    },
    {
      "cell_type": "code",
      "source": [
        "#optimizer = torch.optim.Adam(model.parameters(),lr=1e-4)\n",
        "model=CTmodel\n",
        "optimizer = torch.optim.Adam(model.parameters(),lr=1e-3, weight_decay=1e-3)\n",
        "# 3、选择损失函数loss\n",
        "loss_fn = nn.CrossEntropyLoss()\n",
        "\n",
        "# 4、输入数据训练\n",
        "epochs=30\n",
        "logg=[]\n",
        "early_stopping = 5\n",
        "best_val_loss = float(\"inf\")  # 初始化为无穷大\n",
        "patience = 0\n",
        "print(\"开始训练\")\n",
        "for epoch in range(epochs):\n",
        "    train_acc=0\n",
        "    train_loss=0\n",
        "    for x,y_true in train_loader:\n",
        "        optimizer.zero_grad()           #清空梯度\n",
        "        y_pred = model(x)               #对x进行预测\n",
        "        train_right=torch.argmax(y_pred, dim=1)\n",
        "        train_acc+=(train_right==y_true).sum()\n",
        "        loss = loss_fn(y_pred, y_true)  #计算误差\n",
        "        train_loss+=loss.item()\n",
        "        loss.backward()                 #将损失loss向输入侧进行反向传播\n",
        "        optimizer.step()                #根据梯度更新网络参数;\n",
        "\n",
        "    with torch.no_grad():               #避免反向传播时自动求导\n",
        "        val_correct = 0\n",
        "        val_loss=0\n",
        "        for x, y_true in val_loader:   #这里是验证集，测试集只在最后用一次，不可能每个epoch都用的\n",
        "            y_pred = model(x)           #是batch_size个列表, 每个数字表示概率\n",
        "            val_loss+=loss_fn(y_pred,y_true).item()\n",
        "            y_pred_class = torch.argmax(y_pred,dim=1)     #dim=1或-1表示取每一行的最大值的索引；dim=0或-2表示取每一列的最大值的索引；如果参数中不写dim，则得到的是张量中最大的值对应的索引（从0开始）。\n",
        "            val_correct += torch.sum(y_pred_class == y_true).item()     #上一步选出概率最大的数字与该图片实际类别进行对比，相同就计数\n",
        "    ta=train_acc/len(X_train)\n",
        "    tl=train_loss/len(train_loader)\n",
        "    accuracy=val_correct/len(X_val)\n",
        "    vloss=val_loss/len(val_loader)\n",
        "    info = dict()\n",
        "    info['Epoch'] = epoch\n",
        "    info['Train_acc'] = ta\n",
        "    info['Train_loss'] = tl\n",
        "    info['Validation_acc'] = accuracy\n",
        "    info['Validation_loss'] = vloss\n",
        "    logg.append(info)\n",
        "    print(f\"Epoch {epoch+1}, Train Accuracy: {ta:.3f} Train Loss: {tl:.3f}. Validation Accuracy: {accuracy:.3f}  Validation Loss: {vloss:.3f}\")\n",
        "\n",
        "    # 早停机制\n",
        "    if vloss < best_val_loss:\n",
        "        best_val_loss = vloss\n",
        "        patience_counter = 0  # 重置计数器\n",
        "        torch.save(model, 'best_model.pth')  # 保存当前最优模型\n",
        "        print(f\"Model is saved （with Validation Loss: {vloss:.3f}）\")\n",
        "    else:\n",
        "        patience_counter += 1\n",
        "\n",
        "    if patience_counter >= early_stopping:\n",
        "        print(\"触发早停机制！\")\n",
        "        break\n",
        "\n",
        "#torch.save(model, 'final_model.pth')  # 训练结束后再存一个最终模型\n",
        "print(\"训练结束，最佳模型保存在 'best_CTmodel.pth'\")\n",
        "\n",
        "#torch.save(model,'vit_clf.pth')"
      ],
      "metadata": {
        "colab": {
          "base_uri": "https://localhost:8080/"
        },
        "id": "LIlQU5XOrs2y",
        "outputId": "566e5817-a833-4fb4-a5df-e5a4af40ad87"
      },
      "execution_count": 33,
      "outputs": [
        {
          "output_type": "stream",
          "name": "stdout",
          "text": [
            "开始训练\n",
            "Epoch 1, Train Accuracy: 0.829 Train Loss: 1.418. Validation Accuracy: 0.867  Validation Loss: 0.761\n",
            "Model is saved （with Validation Loss: 0.761）\n",
            "Epoch 2, Train Accuracy: 0.992 Train Loss: 0.012. Validation Accuracy: 0.917  Validation Loss: 0.466\n",
            "Model is saved （with Validation Loss: 0.466）\n",
            "Epoch 3, Train Accuracy: 1.000 Train Loss: 0.000. Validation Accuracy: 0.900  Validation Loss: 0.634\n",
            "Epoch 4, Train Accuracy: 1.000 Train Loss: 0.001. Validation Accuracy: 0.900  Validation Loss: 0.831\n",
            "Epoch 5, Train Accuracy: 1.000 Train Loss: 0.000. Validation Accuracy: 0.883  Validation Loss: 0.934\n",
            "Epoch 6, Train Accuracy: 1.000 Train Loss: 0.000. Validation Accuracy: 0.883  Validation Loss: 0.958\n",
            "Epoch 7, Train Accuracy: 1.000 Train Loss: 0.000. Validation Accuracy: 0.883  Validation Loss: 0.948\n",
            "触发早停机制！\n",
            "训练结束，最佳模型保存在 'best_model.pth'\n"
          ]
        }
      ]
    },
    {
      "cell_type": "code",
      "source": [
        "def all_predict(test_dataloader,loadmodel,device,result_path):\n",
        "    ''' Predict the class (or classes) of an image using a trained deep learning model.\n",
        "    '''\n",
        "    result_df = pd.DataFrame(columns=['testa_id','label'])     #生成一张表格\n",
        "\n",
        "    with torch.no_grad():\n",
        "        loadmodel.to(device)\n",
        "        loadmodel.eval()\n",
        "        for ii,image in enumerate(test_dataloader):\n",
        "            image = image.to(device)\n",
        "            output = loadmodel(image)\n",
        "            _,indexs = torch.max(output.data,1)\n",
        "            #indexs = np.squeeze(indexs.cpu().detach().numpy()).tolist()\n",
        "            indexs = indexs.detach().cpu().numpy().tolist()\n",
        "            indexs = indexs[0]  # 提取单一标签值\n",
        "            #squeeze():将张量中维度为1的维度去掉  cpu():CPU计算  detach():阻止反向传播的梯度计算  numpy():tensor变量转numpy\n",
        "            if ii < len_temp_data_a:\n",
        "                result_df.loc[result_df.shape[0]] = [('testa_{}'.format(ii)),indexs]\n",
        "            else:\n",
        "                result_df.loc[result_df.shape[0]] = [('testb_{}'.format(ii - len_temp_data_a)),indexs]\n",
        "\n",
        "            if ii%20==0:\n",
        "                print('{} test data have been predicted'.format(ii))\n",
        "                print('--'*20)\n",
        "    result_df.to_csv(result_path,index=False)\n",
        "    print('Result is saved')\n",
        "\n",
        "device = torch.device(\"cuda\" if torch.cuda.is_available() else \"cpu\")\n",
        "temp_data1 = np.array(temp_data, dtype=np.int64)  # 确保是 int64\n",
        "temp_data = torch.tensor(temp_data1, dtype=torch.float32)  # 转换为 PyTorch Tensor\n",
        "test_datasets = MyDataset(datas=temp_data,shape=3,input_D=input_D,input_H=input_H,input_W=input_W,phase='test')\n",
        "test_loader = torch.utils.data.DataLoader(dataset=test_datasets)\n",
        "model=torch.load(\"best_model.pth\")\n",
        "#all_predict(test_dataloader=test_loader,loadmodel=model,device=device,result_path='C_to_T.csv')  #F1-score:0.63132\n",
        "#all_predict(test_dataloader=test_loader,loadmodel=CNNmodel,device=device,result_path='C.csv')   #F1-score:0.80923\n",
        "all_predict(test_dataloader=test_loader,loadmodel=CTmodel,device=device,result_path='CT.csv')   #F1-score:0.80923"
      ],
      "metadata": {
        "colab": {
          "base_uri": "https://localhost:8080/"
        },
        "id": "ovYDDVmc8Asd",
        "outputId": "dc802c86-b02c-4bc7-f350-1e8c85570bac"
      },
      "execution_count": 34,
      "outputs": [
        {
          "output_type": "stream",
          "name": "stderr",
          "text": [
            "<ipython-input-34-5f8d657db67a>:33: FutureWarning: You are using `torch.load` with `weights_only=False` (the current default value), which uses the default pickle module implicitly. It is possible to construct malicious pickle data which will execute arbitrary code during unpickling (See https://github.com/pytorch/pytorch/blob/main/SECURITY.md#untrusted-models for more details). In a future release, the default value for `weights_only` will be flipped to `True`. This limits the functions that could be executed during unpickling. Arbitrary objects will no longer be allowed to be loaded via this mode unless they are explicitly allowlisted by the user via `torch.serialization.add_safe_globals`. We recommend you start setting `weights_only=True` for any use case where you don't have full control of the loaded file. Please open an issue on GitHub for any issues related to this experimental feature.\n",
            "  model=torch.load(\"best_model.pth\")\n"
          ]
        },
        {
          "output_type": "stream",
          "name": "stdout",
          "text": [
            "0 test data have been predicted\n",
            "----------------------------------------\n",
            "20 test data have been predicted\n",
            "----------------------------------------\n",
            "40 test data have been predicted\n",
            "----------------------------------------\n",
            "60 test data have been predicted\n",
            "----------------------------------------\n",
            "80 test data have been predicted\n",
            "----------------------------------------\n",
            "100 test data have been predicted\n",
            "----------------------------------------\n",
            "120 test data have been predicted\n",
            "----------------------------------------\n",
            "140 test data have been predicted\n",
            "----------------------------------------\n",
            "160 test data have been predicted\n",
            "----------------------------------------\n",
            "180 test data have been predicted\n",
            "----------------------------------------\n",
            "200 test data have been predicted\n",
            "----------------------------------------\n",
            "220 test data have been predicted\n",
            "----------------------------------------\n",
            "Result is saved\n"
          ]
        }
      ]
    },
    {
      "cell_type": "code",
      "source": [
        "import matplotlib.pyplot as plt\n",
        "def draw(logs: list):\n",
        "    plt.figure()\n",
        "    epoch = []\n",
        "    loss = []\n",
        "    acc = []\n",
        "    vacc = []\n",
        "    vloss = []\n",
        "    for log_ in logs:\n",
        "        epoch.append(log_['Epoch'])\n",
        "        loss.append(log_['Train_loss'])\n",
        "        acc.append(log_['Train_acc'])\n",
        "        vacc.append(log_['Validation_acc'])\n",
        "        vloss.append(log_['Validation_loss'])\n",
        "    plt.plot(epoch, acc, 'r-', label='Train Accuracy')\n",
        "    plt.plot(epoch, vacc, 'b-', label='Validation Accuracy')\n",
        "    plt.xlabel('epoch')\n",
        "    plt.legend()\n",
        "    plt.figure()\n",
        "    plt.plot(epoch, loss, 'r-', label='Train Loss')\n",
        "    plt.plot(epoch, vloss, 'b-', label='Validation Loss')\n",
        "    plt.xlabel('epoch')\n",
        "    plt.legend()\n",
        "    plt.show()\n",
        "\n",
        "draw(logg)"
      ],
      "metadata": {
        "id": "q2RxRqRT8z5l",
        "outputId": "7f4fe282-9a79-4bf5-d61d-cc102af79a75",
        "colab": {
          "base_uri": "https://localhost:8080/",
          "height": 881
        }
      },
      "execution_count": 36,
      "outputs": [
        {
          "output_type": "display_data",
          "data": {
            "text/plain": [
              "<Figure size 640x480 with 1 Axes>"
            ],
            "image/png": "[encoded data removed]"
          },
          "metadata": {}
        },
        {
          "output_type": "display_data",
          "data": {
            "text/plain": [
              "<Figure size 640x480 with 1 Axes>"
            ],
            "image/png": "[encoded data removed]"
          },
          "metadata": {}
        }
      ]
    }
  ]
}